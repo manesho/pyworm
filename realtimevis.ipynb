{
 "cells": [
  {
   "cell_type": "code",
   "execution_count": 1,
   "metadata": {},
   "outputs": [],
   "source": [
    "import sys\n",
    "import numpy as np\n",
    "from matplotlib import cm\n",
    "import importlib as imp\n",
    "sys.path.insert(0, '/home/hornung/projects/SimuJob')\n",
    "import SimuJob as simj\n",
    "imp.reload(simj)\n",
    "import matplotlib.pyplot as plt\n",
    "sys.path.insert(0, '/home/hornung/projects/soworm/pytools')\n",
    "\n",
    "import simulator as sim\n",
    "sys.path.insert(0, '/home/hornung/projects/pyworm')\n",
    "import arrayworm as pwrm\n",
    "from scipy.ndimage import uniform_filter\n",
    "from scipy.ndimage.filters import gaussian_filter"
   ]
  },
  {
   "cell_type": "code",
   "execution_count": 2,
   "metadata": {},
   "outputs": [],
   "source": [
    "import time"
   ]
  },
  {
   "cell_type": "code",
   "execution_count": null,
   "metadata": {},
   "outputs": [],
   "source": []
  },
  {
   "cell_type": "code",
   "execution_count": 13,
   "metadata": {},
   "outputs": [],
   "source": [
    "l1 =pwrm.Lattice(s1=50,s2=2,beta=5, mu3=0,mu8=-1)\n",
    "for i in range(10):\n",
    "    w= pwrm.Worm(l1)\n",
    "    w.run()"
   ]
  },
  {
   "cell_type": "code",
   "execution_count": 4,
   "metadata": {},
   "outputs": [],
   "source": [
    "def getlatet(lattice):\n",
    "    r=10000000;\n",
    "    cdict = {'u':1., 'd':-1., 's':0.}\n",
    "    fundf = {1:1, 0:-1}\n",
    "    res = np.array( [[cdict[lattice.sites[(x,y)].find_spin_at(r*t+1)] *\n",
    "                      fundf[lattice.sites[(x,y)].isfundamental]\n",
    "                          for t in range(lattice.tmax//r)] \n",
    "                               for x in range(lattice.s1) for y in range(lattice.s2)] )\n",
    "    chargedensity = uniform_filter(res,size=(3,3), mode='constant')\n",
    "    return chargedensity\n",
    "\n",
    "def runwormgetlat2(lattice):\n",
    "\n",
    "    r=100000000;\n",
    "    cdict = {'u':1, 'd':2, 's':3}\n",
    "    fundf = {1:1, 0:-1}\n",
    "    res = np.array( [ [\n",
    "                       cdict[lattice.sites[(x,y)].find_spin_at(1) ] *  fundf[lattice.sites[(x,y)].isfundamental]\n",
    "                             for x in range(lattice.s1)] for y in range(lattice.s2)] )\n",
    "    return np.transpose(res)\n",
    "\n",
    "def getlatt3(lattice, t=1):\n",
    "    cdict = {'u':1., 'd':-1., 's':0.}\n",
    "    fundf = {1:1, 0:-1}\n",
    "    res = np.array( [ [\n",
    "                       cdict[lattice.sites[(x,y)].find_spin_at(t) ] *  fundf[lattice.sites[(x,y)].isfundamental]\n",
    "                             for x in range(lattice.s1)] for y in range(lattice.s2)] )\n",
    "    chargedensity = gaussian_filter(np.transpose(res),sigma=1, mode='constant')\n",
    "    return chargedensity\n",
    "\n",
    "def getlatt8(lattice):\n",
    "    r=100000000;\n",
    "    cdict = {'u':1./(2. * np.sqrt(3)), 'd':1./(2. * np.sqrt(3)), 's':-1./( np.sqrt(3))}\n",
    "    fundf = {1:1, 0:-1}\n",
    "    res = np.array( [ [\n",
    "                       cdict[lattice.sites[(x,y)].find_spin_at(1) ] *  fundf[lattice.sites[(x,y)].isfundamental]\n",
    "                             for x in range(lattice.s1)] for y in range(lattice.s2)] )\n",
    "    chargedensity = gaussian_filter(np.transpose(res),sigma=1, mode='constant')\n",
    "    return chargedensity\n",
    "\n",
    "\n",
    "def getlatt3movie(lattice):\n",
    "    r=10000000\n",
    "    return [getlatt3(lattice, t) for t in range(1,lattice.tmax, r)]\n"
   ]
  },
  {
   "cell_type": "code",
   "execution_count": 98,
   "metadata": {},
   "outputs": [],
   "source": [
    "ims = getlatt3movie(l1)"
   ]
  },
  {
   "cell_type": "code",
   "execution_count": 99,
   "metadata": {},
   "outputs": [],
   "source": [
    "%gui qt\n",
    "\n",
    "from pyqtgraph.Qt import QtCore, QtGui\n",
    "import numpy as np\n",
    "import pyqtgraph as pg\n",
    "import pyqtgraph.ptime as ptime\n",
    "win = pg.GraphicsLayoutWidget()\n",
    "win.show()\n",
    "view= win.addViewBox()\n",
    "view.setAspectLocked(True)\n",
    "\n",
    "img= pg.ImageItem(border='w',levels=[-0.5,0.5])\n",
    "view.addItem(img)\n",
    "colormap = cm.get_cmap(\"RdBu\")  # cm.get_cmap(\"CMRmap\")\n",
    "colormap._init()\n",
    "lut = (colormap._lut * 255).view(np.ndarray)  # Convert matplotlib colormap from 0-1 to 0 -255 for Qt\n",
    "img.setLookupTable(lut)\n",
    "img.setImage(np.random.random((100,100)))\n",
    "\n",
    "i = len(ims)-1\n",
    "def updateData():\n",
    "    global i\n",
    "    if i != 0:\n",
    "        img.setImage(ims[i]) \n",
    "        img.setLevels([-0.5,0.5])\n",
    "        i = i -1\n",
    "        QtCore.QTimer.singleShot(5, updateData)\n",
    "updateData()"
   ]
  },
  {
   "cell_type": "code",
   "execution_count": 50,
   "metadata": {},
   "outputs": [],
   "source": [
    "img.setImage(im)"
   ]
  },
  {
   "cell_type": "code",
   "execution_count": null,
   "metadata": {},
   "outputs": [],
   "source": [
    "len"
   ]
  },
  {
   "cell_type": "code",
   "execution_count": 9,
   "metadata": {},
   "outputs": [],
   "source": [
    "%gui qt\n",
    "\n",
    "from pyqtgraph.Qt import QtCore, QtGui\n",
    "import numpy as np\n",
    "import pyqtgraph as pg\n",
    "import pyqtgraph.ptime as ptime\n",
    "\n",
    "app = QtGui.QApplication([])\n",
    "\n",
    "## Create window with GraphicsView widget\n",
    "win = pg.GraphicsLayoutWidget()\n",
    "win.show()  ## show widget alone in its own window\n",
    "win.setWindowTitle('pyqtgraph example: ImageItem')\n",
    "view = win.addViewBox()\n",
    "view2 = win.addViewBox()\n",
    "view3 = win.addViewBox()\n",
    "\n",
    "win2 = pg.GraphicsLayoutWidget()\n",
    "win2.show()\n",
    "win2.setWindowTitle('ET stuff')\n",
    "view4 = win2.addViewBox()\n",
    "\n",
    "## lock the aspect ratio so pixels are always square\n",
    "view.setAspectLocked(True)\n",
    "view2.setAspectLocked(True)\n",
    "view3.setAspectLocked(True)\n",
    "#view4.setAspectLocked(True)\n",
    "\n",
    "## Create image item\n",
    "img = pg.ImageItem(border='w', levels=[-0.5,0.5])\n",
    "imgt8 = pg.ImageItem(border='w', levels=[-0.5,0.5])\n",
    "\n",
    "imget = pg.ImageItem(border='w', levels=[-0.5,0.5])\n",
    "img2 = pg.ImageItem(border='w', levels=[-3,3])\n",
    "\n",
    "\n",
    "plt = pg.PlotItem();\n",
    "view.addItem(img)\n",
    "view2.addItem(imgt8)\n",
    "view3.addItem(img2)\n",
    "view4.addItem(imget)\n",
    "#view.addItem(plt)\n",
    "\n",
    "## Create random image\n",
    "data = runwormgetlat2(l1)\n",
    "\n",
    "t3 = l1.t3();\n",
    "\n",
    "updateTime = ptime.time()\n",
    "fps = 10\n",
    "lut = np.array([[0,0,125],[0,125,0],[125,0,0],[0,0,0],[255,0,0],[0,255,0],[0,0,255]])\n",
    "img2.setLookupTable(lut)\n",
    "\n",
    "colormap = cm.get_cmap(\"RdBu\")  # cm.get_cmap(\"CMRmap\")\n",
    "colormap._init()\n",
    "lut = (colormap._lut * 255).view(np.ndarray)  # Convert matplotlib colormap from 0-1 to 0 -255 for Qt\n",
    "imget.setLookupTable(lut)\n",
    "\n",
    "colormap = cm.get_cmap(\"RdBu\")  # cm.get_cmap(\"CMRmap\")\n",
    "colormap._init()\n",
    "lut = (colormap._lut * 255).view(np.ndarray)  # Convert matplotlib colormap from 0-1 to 0 -255 for Qt\n",
    "img.setLookupTable(lut)\n",
    "\n",
    "colormap = cm.get_cmap(\"PRGn\")  # cm.get_cmap(\"CMRmap\")\n",
    "colormap._init()\n",
    "lut = (colormap._lut * 255).view(np.ndarray)  # Convert matplotlib colormap from 0-1 to 0 -255 for Qt\n",
    "imgt8.setLookupTable(lut)\n",
    "\n",
    "def updateData():\n",
    "    global img, data, updateTime, fps\n",
    "\n",
    "    w= pwrm.Worm(l1)\n",
    "    w.run()\n",
    "    ## Display the data\n",
    "    datat3 = getlatt3(l1)\n",
    "    datat8 = getlatt8(l1)\n",
    "    dataet = getlatet(l1)\n",
    "    data2 = runwormgetlat2(l1)\n",
    "    \n",
    "    img.setImage(datat3)\n",
    "    img.setLevels([-1,1])\n",
    "    imgt8.setImage(datat8)\n",
    "    imgt8.setLevels([-1,1])\n",
    "    img2.setImage(data2)\n",
    "    img2.setLevels([-3,3])\n",
    "    imget.setImage(dataet)\n",
    "    imget.setLevels([-1,1])\n",
    "\n",
    "    QtCore.QTimer.singleShot(1, updateData)\n",
    "    \n",
    "    #print \"%0.1f fps\" % fps\n",
    "    \n",
    "\n",
    "updateData()"
   ]
  },
  {
   "cell_type": "code",
   "execution_count": null,
   "metadata": {},
   "outputs": [],
   "source": [
    "runwormgetlat3(l1)"
   ]
  },
  {
   "cell_type": "code",
   "execution_count": null,
   "metadata": {},
   "outputs": [],
   "source": [
    "1/(2*np.sqrt(3))"
   ]
  },
  {
   "cell_type": "code",
   "execution_count": null,
   "metadata": {},
   "outputs": [],
   "source": [
    "max(1,2)"
   ]
  },
  {
   "cell_type": "code",
   "execution_count": null,
   "metadata": {},
   "outputs": [],
   "source": []
  }
 ],
 "metadata": {
  "hide_input": false,
  "kernelspec": {
   "display_name": "Python 3",
   "language": "python",
   "name": "python3"
  },
  "language_info": {
   "codemirror_mode": {
    "name": "ipython",
    "version": 3
   },
   "file_extension": ".py",
   "mimetype": "text/x-python",
   "name": "python",
   "nbconvert_exporter": "python",
   "pygments_lexer": "ipython3",
   "version": "3.5.3"
  }
 },
 "nbformat": 4,
 "nbformat_minor": 2
}
