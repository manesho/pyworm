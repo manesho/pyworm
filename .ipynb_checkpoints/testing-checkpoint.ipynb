{
 "cells": [
  {
   "cell_type": "code",
   "execution_count": 1,
   "metadata": {},
   "outputs": [
    {
     "data": {
      "text/plain": [
       "<module 'arrayworm' from '/home/hornung/projects/pyworm/arrayworm.py'>"
      ]
     },
     "execution_count": 1,
     "metadata": {},
     "output_type": "execute_result"
    }
   ],
   "source": [
    "import arrayworm as aw\n",
    "import importlib as imp\n",
    "imp.reload(aw)"
   ]
  },
  {
   "cell_type": "code",
   "execution_count": 2,
   "metadata": {},
   "outputs": [],
   "source": [
    "testlat = aw.Lattice(beta=1,s1=2,s2=2)"
   ]
  },
  {
   "cell_type": "code",
   "execution_count": 81,
   "metadata": {},
   "outputs": [
    {
     "data": {
      "text/plain": [
       "[Event(time=0, spins={'FWD': 1, 'BWD': 1}, transitionto=None, kind='boundary'),\n",
       " Event(time=0.1, spins={'FWD': 1, 'BWD': 0}, transitionto=None, kind='tail'),\n",
       " Event(time=0.3, spins={'FWD': 1, 'BWD': 0}, transitionto=None, kind='tail'),\n",
       " Event(time=0.5, spins={'FWD': 1, 'BWD': 0}, transitionto=None, kind='tail'),\n",
       " Event(time=1, spins={'FWD': 1, 'BWD': 1}, transitionto=None, kind='boundary')]"
      ]
     },
     "execution_count": 81,
     "metadata": {},
     "output_type": "execute_result"
    }
   ],
   "source": [
    "testlat.sites[(0,1)].find_event_in_dir(0.2, \"BWD\")\n",
    "testlat.sites[(0,1)].add_event_at(0.2,{\"FWD\":1,\"BWD\":0},None,\"tail\")\n",
    "testlat.sites[(0,1)].add_event_at(0.1,{\"FWD\":1,\"BWD\":0},None,\"tail\")\n",
    "testlat.sites[(0,1)].add_event_at(0.5,{\"FWD\":1,\"BWD\":0},None,\"tail\")\n",
    "testlat.sites[(0,1)].add_event_at(0.3,{\"FWD\":1,\"BWD\":0},None,\"tail\")\n",
    "testlat.sites[(0,1)].delete_event_at(0.2)\n",
    "\n",
    "testlat.sites[(0,1)].eventlist"
   ]
  },
  {
   "cell_type": "code",
   "execution_count": 83,
   "metadata": {},
   "outputs": [
    {
     "data": {
      "text/plain": [
       "Event(time=0, spins={'FWD': 1, 'BWD': 1}, transitionto=None, kind='boundary')"
      ]
     },
     "execution_count": 83,
     "metadata": {},
     "output_type": "execute_result"
    }
   ],
   "source": [
    "testlat.sites[(0,1)].find_event_in_dir(0.1,\"BWD\")"
   ]
  },
  {
   "cell_type": "code",
   "execution_count": 88,
   "metadata": {},
   "outputs": [
    {
     "data": {
      "text/plain": [
       "Event(time=0.1, spins={'FWD': 1, 'BWD': 0}, transitionto=None, kind='tail')"
      ]
     },
     "execution_count": 88,
     "metadata": {},
     "output_type": "execute_result"
    }
   ],
   "source": [
    "testlat.sites[(0,1)].find_event_at(0.1000000000000000000001)"
   ]
  },
  {
   "cell_type": "code",
   "execution_count": 116,
   "metadata": {
    "scrolled": true
   },
   "outputs": [
    {
     "name": "stdout",
     "output_type": "stream",
     "text": [
      "(0, 1) [Event(time=0, spins={'FWD': 1, 'BWD': 1}, transitionto=None, kind='boundary'), Event(time=1, spins={'FWD': 1, 'BWD': 1}, transitionto=None, kind='boundary')]\n",
      "(1, 0) [Event(time=0, spins={'FWD': 1, 'BWD': 1}, transitionto=None, kind='boundary'), Event(time=1, spins={'FWD': 1, 'BWD': 1}, transitionto=None, kind='boundary')]\n",
      "(0, 0) [Event(time=0, spins={'FWD': 1, 'BWD': 1}, transitionto=None, kind='boundary'), Event(time=0.08375311894788728, spins={'FWD': 0, 'BWD': 1}, transitionto=None, kind='tail'), Event(time=1, spins={'FWD': 1, 'BWD': 1}, transitionto=None, kind='boundary')]\n",
      "(1, 1) [Event(time=0, spins={'FWD': 1, 'BWD': 1}, transitionto=None, kind='boundary'), Event(time=1, spins={'FWD': 1, 'BWD': 1}, transitionto=None, kind='boundary')]\n"
     ]
    }
   ],
   "source": [
    "for key,site in testlat.sites.items():\n",
    "    print(key,site.eventlist)\n",
    "    "
   ]
  },
  {
   "cell_type": "code",
   "execution_count": 313,
   "metadata": {
    "scrolled": true
   },
   "outputs": [
    {
     "data": {
      "text/plain": [
       "-2.0"
      ]
     },
     "execution_count": 313,
     "metadata": {},
     "output_type": "execute_result"
    }
   ],
   "source": []
  },
  {
   "cell_type": "code",
   "execution_count": 347,
   "metadata": {},
   "outputs": [
    {
     "name": "stdout",
     "output_type": "stream",
     "text": [
      "0.53868\n"
     ]
    }
   ],
   "source": [
    "imp.reload(aw)\n",
    "testlat = aw.Lattice(beta=0.5,s1=2,s2=2, ics=[0,0])\n",
    "imax = 100000\n",
    "iterm = 10000\n",
    "t3sq =int(0)\n",
    "#termalize:\n",
    "for i in range(iterm):\n",
    "    w = aw.Worm(testlat)\n",
    "    w.run()\n",
    "\n",
    "for i in range(imax):\n",
    "    w = aw.Worm(testlat)\n",
    "    t3sq = t3sq + int(testlat.t3squared())\n",
    "    w.run()\n",
    "    \n",
    "print(t3sq/imax)\n",
    "\n",
    "\n"
   ]
  },
  {
   "cell_type": "code",
   "execution_count": 268,
   "metadata": {},
   "outputs": [
    {
     "data": {
      "text/plain": [
       "10000000000000000000000"
      ]
     },
     "execution_count": 268,
     "metadata": {},
     "output_type": "execute_result"
    }
   ],
   "source": [
    "for coord,site in testlat.sites.items():\n",
    "    print(coord)\n",
    "    for ev in site.eventlist:\n",
    "        print(ev)\n",
    "    print(\"@@@@@@@@@@@\")\n"
   ]
  },
  {
   "cell_type": "code",
   "execution_count": 4,
   "metadata": {},
   "outputs": [],
   "source": [
    "betas = [b*0.1 for b in range(1,20)]\n"
   ]
  },
  {
   "cell_type": "code",
   "execution_count": null,
   "metadata": {},
   "outputs": [],
   "source": [
    "t3sqs = [aw.launch_simulation(beta=beta, wormruns=10000 ) for beta in betas ] "
   ]
  },
  {
   "cell_type": "code",
   "execution_count": 7,
   "metadata": {},
   "outputs": [],
   "source": [
    "betams = [0.05, 0.1, 0.15, 0.2, 0.25, 0.3, 0.35, 0.4, 0.45, 0.5, 0.55, 0.6, \\\n",
    "0.65, 0.7, 0.75, 0.8, 0.85, 0.9, 0.95, 1., 1.05, 1.1, 1.15, 1.2, \\\n",
    "1.25, 1.3, 1.35, 1.4, 1.45, 1.5, 1.55, 1.6, 1.65, 1.7, 1.75, 1.8, \\\n",
    "1.85, 1.9, 1.95, 2.]\n",
    "t3sqms =[0.950042, 0.900332, 0.851115, 0.802625, 0.755081, 0.708687, 0.663624, \\\n",
    "0.620051, 0.578101, 0.537883, 0.49948, 0.46295, 0.42833, 0.395632, \\\n",
    "0.364851, 0.335963, 0.308931, 0.283702, 0.260217, 0.238406, 0.218194, \\\n",
    "0.199501, 0.182246, 0.166345, 0.151716, 0.138277, 0.125947, 0.114648, \\\n",
    "0.104307, 0.0948517, 0.0862145, 0.0783314, 0.0711424, 0.0645909, \\\n",
    "0.0586245, 0.053194, 0.048254, 0.0437625, 0.0396806, 0.0359724]"
   ]
  },
  {
   "cell_type": "code",
   "execution_count": 8,
   "metadata": {},
   "outputs": [],
   "source": [
    "betadt = [0.5,1.,1.5,2]\n",
    "t3sqdt = [0.535,0.235, 0.0943,0.036]"
   ]
  },
  {
   "cell_type": "code",
   "execution_count": 12,
   "metadata": {},
   "outputs": [
    {
     "data": {
      "image/png": "[encoded data removed]",
      "text/plain": [
       "<matplotlib.figure.Figure at 0x7fc16d326da0>"
      ]
     },
     "metadata": {},
     "output_type": "display_data"
    }
   ],
   "source": [
    "import matplotlib.pyplot as plt\n",
    "plt.plot(betas,t3sqs, 'o')\n",
    "plt.plot(betams,t3sqms)\n",
    "plt.plot(betadt,t3sqdt, 'o')\n",
    "plt.plot(betacts,t3wqcts, 'o')\n",
    "\n",
    "plt.show()\n"
   ]
  },
  {
   "cell_type": "code",
   "execution_count": 11,
   "metadata": {},
   "outputs": [],
   "source": [
    "import csv\n",
    "def tsqfromfile(beta):\n",
    "    data =[]\n",
    "    with open('/scratch1/hornung/dtvspyworm/ct/results/BETAS-{0:.2f}.dat'.format(beta)) as csvfile:\n",
    "        readCSV = csv.reader(csvfile, delimiter='\\t')\n",
    "        for row in readCSV:\n",
    "            data = row\n",
    "    \n",
    "    return float(data[4])\n",
    "\n",
    "\n",
    "betacts = [b*0.05 for b in range(1,41)]\n",
    "t3wqcts = [tsqfromfile(beta) for beta in betacts]"
   ]
  },
  {
   "cell_type": "code",
   "execution_count": 442,
   "metadata": {},
   "outputs": [
    {
     "data": {
      "text/plain": [
       "40"
      ]
     },
     "execution_count": 442,
     "metadata": {},
     "output_type": "execute_result"
    }
   ],
   "source": [
    "len(betacts)"
   ]
  },
  {
   "cell_type": "code",
   "execution_count": 435,
   "metadata": {},
   "outputs": [
    {
     "ename": "TypeError",
     "evalue": "str() argument 2 must be str, not int",
     "output_type": "error",
     "traceback": [
      "\u001b[0;31m---------------------------------------------------------------------------\u001b[0m",
      "\u001b[0;31mTypeError\u001b[0m                                 Traceback (most recent call last)",
      "\u001b[0;32m<ipython-input-435-2708d93545f2>\u001b[0m in \u001b[0;36m<module>\u001b[0;34m()\u001b[0m\n\u001b[0;32m----> 1\u001b[0;31m \u001b[0mstr\u001b[0m\u001b[0;34m(\u001b[0m\u001b[0;36m0.2\u001b[0m\u001b[0;34m,\u001b[0m\u001b[0;36m2\u001b[0m\u001b[0;34m)\u001b[0m\u001b[0;34m\u001b[0m\u001b[0m\n\u001b[0m",
      "\u001b[0;31mTypeError\u001b[0m: str() argument 2 must be str, not int"
     ]
    }
   ],
   "source": [
    "str(0.2)"
   ]
  },
  {
   "cell_type": "code",
   "execution_count": 450,
   "metadata": {},
   "outputs": [],
   "source": [
    "from joblib import Parallel, delayed\n",
    "import multiprocessing\n",
    "    \n",
    "# what are your inputs, and what operation do you want to \n",
    "# perform on each input. For example...\n",
    "inputs = range(10) \n",
    "def processInput(i):\n",
    "return i * i\n",
    "\n",
    "num_cores = multiprocessing.cpu_count()\n",
    "    \n",
    "results = Parallel(n_jobs=num_cores)(delayed(processInput)(i) for i in inputs)\n"
   ]
  },
  {
   "cell_type": "code",
   "execution_count": 451,
   "metadata": {},
   "outputs": [
    {
     "data": {
      "text/plain": [
       "4"
      ]
     },
     "execution_count": 451,
     "metadata": {},
     "output_type": "execute_result"
    }
   ],
   "source": [
    "num_cores"
   ]
  },
  {
   "cell_type": "code",
   "execution_count": null,
   "metadata": {},
   "outputs": [],
   "source": []
  }
 ],
 "metadata": {
  "kernelspec": {
   "display_name": "Python 3",
   "language": "python",
   "name": "python3"
  },
  "language_info": {
   "codemirror_mode": {
    "name": "ipython",
    "version": 3
   },
   "file_extension": ".py",
   "mimetype": "text/x-python",
   "name": "python",
   "nbconvert_exporter": "python",
   "pygments_lexer": "ipython3",
   "version": "3.5.3"
  }
 },
 "nbformat": 4,
 "nbformat_minor": 2
}
