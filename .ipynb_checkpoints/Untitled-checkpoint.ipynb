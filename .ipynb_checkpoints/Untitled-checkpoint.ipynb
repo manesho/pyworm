{
 "cells": [
  {
   "cell_type": "code",
   "execution_count": 113,
   "metadata": {},
   "outputs": [
    {
     "data": {
      "text/plain": [
       "<module 'arrayworm' from '/home/hornung/projects/pyworm/arrayworm.py'>"
      ]
     },
     "execution_count": 113,
     "metadata": {},
     "output_type": "execute_result"
    }
   ],
   "source": [
    "import arrayworm as aw\n",
    "import importlib as imp\n",
    "imp.reload(aw)"
   ]
  },
  {
   "cell_type": "code",
   "execution_count": 80,
   "metadata": {},
   "outputs": [],
   "source": [
    "testlat = aw.Lattice(beta=1,s1=2,s2=2)"
   ]
  },
  {
   "cell_type": "code",
   "execution_count": 81,
   "metadata": {},
   "outputs": [
    {
     "data": {
      "text/plain": [
       "[Event(time=0, spins={'FWD': 1, 'BWD': 1}, transitionto=None, kind='boundary'),\n",
       " Event(time=0.1, spins={'FWD': 1, 'BWD': 0}, transitionto=None, kind='tail'),\n",
       " Event(time=0.3, spins={'FWD': 1, 'BWD': 0}, transitionto=None, kind='tail'),\n",
       " Event(time=0.5, spins={'FWD': 1, 'BWD': 0}, transitionto=None, kind='tail'),\n",
       " Event(time=1, spins={'FWD': 1, 'BWD': 1}, transitionto=None, kind='boundary')]"
      ]
     },
     "execution_count": 81,
     "metadata": {},
     "output_type": "execute_result"
    }
   ],
   "source": [
    "testlat.sites[(0,1)].find_event_in_dir(0.2, \"BWD\")\n",
    "testlat.sites[(0,1)].add_event_at(0.2,{\"FWD\":1,\"BWD\":0},None,\"tail\")\n",
    "testlat.sites[(0,1)].add_event_at(0.1,{\"FWD\":1,\"BWD\":0},None,\"tail\")\n",
    "testlat.sites[(0,1)].add_event_at(0.5,{\"FWD\":1,\"BWD\":0},None,\"tail\")\n",
    "testlat.sites[(0,1)].add_event_at(0.3,{\"FWD\":1,\"BWD\":0},None,\"tail\")\n",
    "testlat.sites[(0,1)].delete_event_at(0.2)\n",
    "\n",
    "testlat.sites[(0,1)].eventlist"
   ]
  },
  {
   "cell_type": "code",
   "execution_count": 83,
   "metadata": {},
   "outputs": [
    {
     "data": {
      "text/plain": [
       "Event(time=0, spins={'FWD': 1, 'BWD': 1}, transitionto=None, kind='boundary')"
      ]
     },
     "execution_count": 83,
     "metadata": {},
     "output_type": "execute_result"
    }
   ],
   "source": [
    "testlat.sites[(0,1)].find_event_in_dir(0.1,\"BWD\")"
   ]
  },
  {
   "cell_type": "code",
   "execution_count": 88,
   "metadata": {},
   "outputs": [
    {
     "data": {
      "text/plain": [
       "Event(time=0.1, spins={'FWD': 1, 'BWD': 0}, transitionto=None, kind='tail')"
      ]
     },
     "execution_count": 88,
     "metadata": {},
     "output_type": "execute_result"
    }
   ],
   "source": [
    "testlat.sites[(0,1)].find_event_at(0.1000000000000000000001)"
   ]
  },
  {
   "cell_type": "code",
   "execution_count": 116,
   "metadata": {
    "scrolled": true
   },
   "outputs": [
    {
     "name": "stdout",
     "output_type": "stream",
     "text": [
      "(0, 1) [Event(time=0, spins={'FWD': 1, 'BWD': 1}, transitionto=None, kind='boundary'), Event(time=1, spins={'FWD': 1, 'BWD': 1}, transitionto=None, kind='boundary')]\n",
      "(1, 0) [Event(time=0, spins={'FWD': 1, 'BWD': 1}, transitionto=None, kind='boundary'), Event(time=1, spins={'FWD': 1, 'BWD': 1}, transitionto=None, kind='boundary')]\n",
      "(0, 0) [Event(time=0, spins={'FWD': 1, 'BWD': 1}, transitionto=None, kind='boundary'), Event(time=0.08375311894788728, spins={'FWD': 0, 'BWD': 1}, transitionto=None, kind='tail'), Event(time=1, spins={'FWD': 1, 'BWD': 1}, transitionto=None, kind='boundary')]\n",
      "(1, 1) [Event(time=0, spins={'FWD': 1, 'BWD': 1}, transitionto=None, kind='boundary'), Event(time=1, spins={'FWD': 1, 'BWD': 1}, transitionto=None, kind='boundary')]\n"
     ]
    }
   ],
   "source": [
    "for key,site in testlat.sites.items():\n",
    "    print(key,site.eventlist)\n",
    "    "
   ]
  },
  {
   "cell_type": "code",
   "execution_count": 291,
   "metadata": {
    "scrolled": false
   },
   "outputs": [
    {
     "ename": "KeyboardInterrupt",
     "evalue": "",
     "output_type": "error",
     "traceback": [
      "\u001b[0;31m---------------------------------------------------------------------------\u001b[0m",
      "\u001b[0;31mKeyboardInterrupt\u001b[0m                         Traceback (most recent call last)",
      "\u001b[0;32m<ipython-input-291-29d20e23ceaf>\u001b[0m in \u001b[0;36m<module>\u001b[0;34m()\u001b[0m\n\u001b[1;32m      6\u001b[0m \u001b[0;32mfor\u001b[0m \u001b[0mi\u001b[0m \u001b[0;32min\u001b[0m \u001b[0mrange\u001b[0m\u001b[0;34m(\u001b[0m\u001b[0mimax\u001b[0m\u001b[0;34m)\u001b[0m\u001b[0;34m:\u001b[0m\u001b[0;34m\u001b[0m\u001b[0m\n\u001b[1;32m      7\u001b[0m     \u001b[0mw\u001b[0m \u001b[0;34m=\u001b[0m \u001b[0maw\u001b[0m\u001b[0;34m.\u001b[0m\u001b[0mWorm\u001b[0m\u001b[0;34m(\u001b[0m\u001b[0mtestlat\u001b[0m\u001b[0;34m)\u001b[0m\u001b[0;34m\u001b[0m\u001b[0m\n\u001b[0;32m----> 8\u001b[0;31m     \u001b[0mt3sq\u001b[0m \u001b[0;34m=\u001b[0m \u001b[0mt3sq\u001b[0m \u001b[0;34m+\u001b[0m \u001b[0mtestlat\u001b[0m\u001b[0;34m.\u001b[0m\u001b[0mt3squared\u001b[0m\u001b[0;34m(\u001b[0m\u001b[0;34m)\u001b[0m\u001b[0;34m\u001b[0m\u001b[0m\n\u001b[0m\u001b[1;32m      9\u001b[0m     \u001b[0mw\u001b[0m\u001b[0;34m.\u001b[0m\u001b[0mrun\u001b[0m\u001b[0;34m(\u001b[0m\u001b[0;34m)\u001b[0m\u001b[0;34m\u001b[0m\u001b[0m\n\u001b[1;32m     10\u001b[0m \u001b[0;34m\u001b[0m\u001b[0m\n",
      "\u001b[0;32m~/projects/pyworm/arrayworm.py\u001b[0m in \u001b[0;36mt3squared\u001b[0;34m(self)\u001b[0m\n\u001b[1;32m    118\u001b[0m                                                         \u001b[0;32melse\u001b[0m\u001b[0;34m:\u001b[0m\u001b[0;34m\u001b[0m\u001b[0m\n\u001b[1;32m    119\u001b[0m                                                                 \u001b[0mt3lcoal\u001b[0m \u001b[0;34m=\u001b[0m \u001b[0;36m0.5\u001b[0m\u001b[0;34m\u001b[0m\u001b[0m\n\u001b[0;32m--> 120\u001b[0;31m                                         \u001b[0mt3\u001b[0m \u001b[0;34m=\u001b[0m \u001b[0mt3\u001b[0m\u001b[0;34m+\u001b[0m \u001b[0mt3local\u001b[0m\u001b[0;34m\u001b[0m\u001b[0m\n\u001b[0m\u001b[1;32m    121\u001b[0m                         \u001b[0;32mreturn\u001b[0m \u001b[0mt3\u001b[0m\u001b[0;34m*\u001b[0m\u001b[0mt3\u001b[0m\u001b[0;34m\u001b[0m\u001b[0m\n\u001b[1;32m    122\u001b[0m \u001b[0;34m\u001b[0m\u001b[0m\n",
      "\u001b[0;31mKeyboardInterrupt\u001b[0m: "
     ]
    }
   ],
   "source": [
    "imp.reload(aw)\n",
    "testlat = aw.Lattice(beta=2,s1=2,s2=2, ics=[0,1])\n",
    "t3sq = 0\n",
    "testlat.t3"
   ]
  },
  {
   "cell_type": "code",
   "execution_count": 290,
   "metadata": {},
   "outputs": [
    {
     "name": "stdout",
     "output_type": "stream",
     "text": [
      "(0, 1)\n",
      "Event(time=0, spins={'FWD': 0, 'BWD': 0}, transitionto=None, kind='boundary')\n",
      "Event(time=10000000000, spins={'FWD': 0, 'BWD': 0}, transitionto=None, kind='boundary')\n",
      "@@@@@@@@@@@\n",
      "(1, 0)\n",
      "Event(time=0, spins={'FWD': 0, 'BWD': 0}, transitionto=None, kind='boundary')\n",
      "Event(time=10000000000, spins={'FWD': 0, 'BWD': 0}, transitionto=None, kind='boundary')\n",
      "@@@@@@@@@@@\n",
      "(0, 0)\n",
      "Event(time=0, spins={'FWD': 1, 'BWD': 1}, transitionto=None, kind='boundary')\n",
      "Event(time=182829415, spins={'FWD': 0, 'BWD': 1}, transitionto=None, kind='tail')\n",
      "Event(time=10000000000, spins={'FWD': 1, 'BWD': 1}, transitionto=None, kind='boundary')\n",
      "@@@@@@@@@@@\n",
      "(1, 1)\n",
      "Event(time=0, spins={'FWD': 1, 'BWD': 1}, transitionto=None, kind='boundary')\n",
      "Event(time=10000000000, spins={'FWD': 1, 'BWD': 1}, transitionto=None, kind='boundary')\n",
      "@@@@@@@@@@@\n"
     ]
    }
   ],
   "source": [
    "imax = 100000\n",
    "\n",
    "for i in range(imax):\n",
    "    w = aw.Worm(testlat)\n",
    "    t3sq = t3sq + testlat.t3squared()\n",
    "    w.run()\n",
    "    \n",
    "print(t3sq/imax)\n",
    "\n",
    "for coord,site in testlat.sites.items():\n",
    "    print(coord)\n",
    "    for ev in site.eventlist:\n",
    "        print(ev)\n",
    "    print(\"@@@@@@@@@@@\")\n"
   ]
  },
  {
   "cell_type": "code",
   "execution_count": 268,
   "metadata": {},
   "outputs": [
    {
     "data": {
      "text/plain": [
       "10000000000000000000000"
      ]
     },
     "execution_count": 268,
     "metadata": {},
     "output_type": "execute_result"
    }
   ],
   "source": [
    "10000000000000000000000"
   ]
  },
  {
   "cell_type": "code",
   "execution_count": 275,
   "metadata": {},
   "outputs": [
    {
     "data": {
      "text/plain": [
       "1"
      ]
     },
     "execution_count": 275,
     "metadata": {},
     "output_type": "execute_result"
    }
   ],
   "source": [
    "(round(0.9))"
   ]
  },
  {
   "cell_type": "code",
   "execution_count": null,
   "metadata": {},
   "outputs": [],
   "source": []
  }
 ],
 "metadata": {
  "kernelspec": {
   "display_name": "Python 3",
   "language": "python",
   "name": "python3"
  },
  "language_info": {
   "codemirror_mode": {
    "name": "ipython",
    "version": 3
   },
   "file_extension": ".py",
   "mimetype": "text/x-python",
   "name": "python",
   "nbconvert_exporter": "python",
   "pygments_lexer": "ipython3",
   "version": "3.5.3"
  }
 },
 "nbformat": 4,
 "nbformat_minor": 2
}
