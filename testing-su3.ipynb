{
 "cells": [
  {
   "cell_type": "code",
   "execution_count": 68,
   "metadata": {},
   "outputs": [
    {
     "data": {
      "text/plain": [
       "<module 'arrayworm' from '/home/hornung/projects/pyworm/arrayworm.py'>"
      ]
     },
     "execution_count": 68,
     "metadata": {},
     "output_type": "execute_result"
    }
   ],
   "source": [
    "import arrayworm as aw\n",
    "import importlib as imp\n",
    "imp.reload(aw)\n"
   ]
  },
  {
   "cell_type": "code",
   "execution_count": 69,
   "metadata": {},
   "outputs": [],
   "source": [
    "testlat = aw.Lattice(beta=1,s1=2,s2=2, ics=[\"u\",\"u\"])\n",
    "testworm=aw.Worm(testlat)\n",
    "testworm.run()"
   ]
  },
  {
   "cell_type": "code",
   "execution_count": 22,
   "metadata": {},
   "outputs": [
    {
     "data": {
      "text/plain": [
       "{'=': 0, 'b': 0, 'x': 0}"
      ]
     },
     "execution_count": 22,
     "metadata": {},
     "output_type": "execute_result"
    }
   ],
   "source": [
    "testworm.decayrules[testworm.direction]['2f']"
   ]
  },
  {
   "cell_type": "code",
   "execution_count": 43,
   "metadata": {},
   "outputs": [
    {
     "name": "stdout",
     "output_type": "stream",
     "text": [
      "((1, 1), {'b': 0, 'x': 0, '=': 0.5})\n",
      "((1, 1), {'b': 0, 'x': 0, '=': 0.5})\n",
      "((0, 0), {'b': 0, 'x': 0, '=': 0.5})\n",
      "((0, 0), {'b': 0, 'x': 0, '=': 0.5})\n"
     ]
    }
   ],
   "source": [
    "\n",
    "dct = testworm.get_decay_constants()\n",
    "for dc in dct:\n",
    "    print(dc)"
   ]
  },
  {
   "cell_type": "code",
   "execution_count": 81,
   "metadata": {},
   "outputs": [
    {
     "data": {
      "text/plain": [
       "[Event(time=0, spins={'FWD': 1, 'BWD': 1}, transitionto=None, kind='boundary'),\n",
       " Event(time=0.1, spins={'FWD': 1, 'BWD': 0}, transitionto=None, kind='tail'),\n",
       " Event(time=0.3, spins={'FWD': 1, 'BWD': 0}, transitionto=None, kind='tail'),\n",
       " Event(time=0.5, spins={'FWD': 1, 'BWD': 0}, transitionto=None, kind='tail'),\n",
       " Event(time=1, spins={'FWD': 1, 'BWD': 1}, transitionto=None, kind='boundary')]"
      ]
     },
     "execution_count": 81,
     "metadata": {},
     "output_type": "execute_result"
    }
   ],
   "source": [
    "testlat.sites[(0,1)].find_event_in_dir(0.2, \"BWD\")\n",
    "testlat.sites[(0,1)].add_event_at(0.2,{\"FWD\":1,\"BWD\":0},None,\"tail\")\n",
    "testlat.sites[(0,1)].add_event_at(0.1,{\"FWD\":1,\"BWD\":0},None,\"tail\")\n",
    "testlat.sites[(0,1)].add_event_at(0.5,{\"FWD\":1,\"BWD\":0},None,\"tail\")\n",
    "testlat.sites[(0,1)].add_event_at(0.3,{\"FWD\":1,\"BWD\":0},None,\"tail\")\n",
    "testlat.sites[(0,1)].delete_event_at(0.2)\n",
    "\n",
    "testlat.sites[(0,1)].eventlist"
   ]
  },
  {
   "cell_type": "code",
   "execution_count": 83,
   "metadata": {},
   "outputs": [
    {
     "data": {
      "text/plain": [
       "Event(time=0, spins={'FWD': 1, 'BWD': 1}, transitionto=None, kind='boundary')"
      ]
     },
     "execution_count": 83,
     "metadata": {},
     "output_type": "execute_result"
    }
   ],
   "source": [
    "testlat.sites[(0,1)].find_event_in_dir(0.1,\"BWD\")"
   ]
  },
  {
   "cell_type": "code",
   "execution_count": 88,
   "metadata": {},
   "outputs": [
    {
     "data": {
      "text/plain": [
       "Event(time=0.1, spins={'FWD': 1, 'BWD': 0}, transitionto=None, kind='tail')"
      ]
     },
     "execution_count": 88,
     "metadata": {},
     "output_type": "execute_result"
    }
   ],
   "source": [
    "testlat.sites[(0,1)].find_event_at(0.1000000000000000000001)"
   ]
  },
  {
   "cell_type": "code",
   "execution_count": 116,
   "metadata": {
    "scrolled": true
   },
   "outputs": [
    {
     "name": "stdout",
     "output_type": "stream",
     "text": [
      "(0, 1) [Event(time=0, spins={'FWD': 1, 'BWD': 1}, transitionto=None, kind='boundary'), Event(time=1, spins={'FWD': 1, 'BWD': 1}, transitionto=None, kind='boundary')]\n",
      "(1, 0) [Event(time=0, spins={'FWD': 1, 'BWD': 1}, transitionto=None, kind='boundary'), Event(time=1, spins={'FWD': 1, 'BWD': 1}, transitionto=None, kind='boundary')]\n",
      "(0, 0) [Event(time=0, spins={'FWD': 1, 'BWD': 1}, transitionto=None, kind='boundary'), Event(time=0.08375311894788728, spins={'FWD': 0, 'BWD': 1}, transitionto=None, kind='tail'), Event(time=1, spins={'FWD': 1, 'BWD': 1}, transitionto=None, kind='boundary')]\n",
      "(1, 1) [Event(time=0, spins={'FWD': 1, 'BWD': 1}, transitionto=None, kind='boundary'), Event(time=1, spins={'FWD': 1, 'BWD': 1}, transitionto=None, kind='boundary')]\n"
     ]
    }
   ],
   "source": [
    "for key,site in testlat.sites.items():\n",
    "    print(key,site.eventlist)\n",
    "    "
   ]
  },
  {
   "cell_type": "code",
   "execution_count": 313,
   "metadata": {
    "scrolled": true
   },
   "outputs": [
    {
     "data": {
      "text/plain": [
       "-2.0"
      ]
     },
     "execution_count": 313,
     "metadata": {},
     "output_type": "execute_result"
    }
   ],
   "source": []
  },
  {
   "cell_type": "code",
   "execution_count": 740,
   "metadata": {},
   "outputs": [
    {
     "name": "stdout",
     "output_type": "stream",
     "text": [
      "{'=': 0.5, 'b': 0, 'x': 0}\n",
      "FWD\n",
      "eq\n",
      "eq\n",
      "eq\n",
      "eq\n",
      "eq\n",
      "eq\n",
      "eq\n",
      "eq\n",
      "eq\n",
      "eq\n",
      "eq\n",
      "eq\n",
      "{((0, 1), 'b'): 0, ((0, 1), '='): 0.5, ((0, 1), 'x'): 0, ((1, 0), 'x'): 0, ((1, 0), '='): 0.5, ((1, 0), 'b'): 0}\n"
     ]
    },
    {
     "ename": "TypeError",
     "evalue": "unsupported operand type(s) for +: 'int' and 'tuple'",
     "output_type": "error",
     "traceback": [
      "\u001b[0;31m---------------------------------------------------------------------------\u001b[0m",
      "\u001b[0;31mTypeError\u001b[0m                                 Traceback (most recent call last)",
      "\u001b[0;32m<ipython-input-740-d88df16ab871>\u001b[0m in \u001b[0;36m<module>\u001b[0;34m()\u001b[0m\n\u001b[1;32m      4\u001b[0m \u001b[0mprint\u001b[0m\u001b[0;34m(\u001b[0m\u001b[0mwrm\u001b[0m\u001b[0;34m.\u001b[0m\u001b[0mdecayrules\u001b[0m\u001b[0;34m[\u001b[0m\u001b[0;34m(\u001b[0m\u001b[0mwrm\u001b[0m\u001b[0;34m.\u001b[0m\u001b[0mdirection\u001b[0m\u001b[0;34m,\u001b[0m \u001b[0;36m0\u001b[0m\u001b[0;34m)\u001b[0m\u001b[0;34m]\u001b[0m\u001b[0;34m[\u001b[0m\u001b[0;34m'eq'\u001b[0m\u001b[0;34m]\u001b[0m\u001b[0;34m)\u001b[0m\u001b[0;34m\u001b[0m\u001b[0m\n\u001b[1;32m      5\u001b[0m \u001b[0mprint\u001b[0m\u001b[0;34m(\u001b[0m\u001b[0mwrm\u001b[0m\u001b[0;34m.\u001b[0m\u001b[0mdirection\u001b[0m\u001b[0;34m)\u001b[0m\u001b[0;34m\u001b[0m\u001b[0m\n\u001b[0;32m----> 6\u001b[0;31m \u001b[0mwrm\u001b[0m\u001b[0;34m.\u001b[0m\u001b[0mstep\u001b[0m\u001b[0;34m(\u001b[0m\u001b[0;34m)\u001b[0m\u001b[0;34m\u001b[0m\u001b[0m\n\u001b[0m",
      "\u001b[0;32m~/projects/pyworm/arrayworm.py\u001b[0m in \u001b[0;36mstep\u001b[0;34m(self)\u001b[0m\n\u001b[1;32m    414\u001b[0m                         \u001b[0mprint\u001b[0m\u001b[0;34m(\u001b[0m\u001b[0mdecconsts\u001b[0m\u001b[0;34m)\u001b[0m\u001b[0;34m\u001b[0m\u001b[0m\n\u001b[1;32m    415\u001b[0m                         \u001b[0;31m#print(\"dcs:\", decconsts)\u001b[0m\u001b[0;34m\u001b[0m\u001b[0;34m\u001b[0m\u001b[0m\n\u001b[0;32m--> 416\u001b[0;31m                         \u001b[0mt\u001b[0m \u001b[0;34m=\u001b[0m \u001b[0mself\u001b[0m\u001b[0;34m.\u001b[0m\u001b[0msampledectime\u001b[0m\u001b[0;34m(\u001b[0m\u001b[0mdecconsts\u001b[0m\u001b[0;34m,\u001b[0m \u001b[0mdt\u001b[0m\u001b[0;34m)\u001b[0m\u001b[0;34m\u001b[0m\u001b[0m\n\u001b[0m\u001b[1;32m    417\u001b[0m                         \u001b[0;31m# if the time is smaller than dr -> jump\u001b[0m\u001b[0;34m\u001b[0m\u001b[0;34m\u001b[0m\u001b[0m\n\u001b[1;32m    418\u001b[0m                         \u001b[0;32mif\u001b[0m \u001b[0mt\u001b[0m \u001b[0;34m<\u001b[0m \u001b[0mdt\u001b[0m\u001b[0;34m:\u001b[0m\u001b[0;34m\u001b[0m\u001b[0m\n",
      "\u001b[0;32m~/projects/pyworm/arrayworm.py\u001b[0m in \u001b[0;36msampledectime\u001b[0;34m(self, decconsts, dt)\u001b[0m\n\u001b[1;32m    285\u001b[0m \u001b[0;34m\u001b[0m\u001b[0m\n\u001b[1;32m    286\u001b[0m                 \u001b[0;32mdef\u001b[0m \u001b[0msampledectime\u001b[0m\u001b[0;34m(\u001b[0m\u001b[0mself\u001b[0m\u001b[0;34m,\u001b[0m\u001b[0mdecconsts\u001b[0m\u001b[0;34m,\u001b[0m \u001b[0mdt\u001b[0m\u001b[0;34m)\u001b[0m\u001b[0;34m:\u001b[0m\u001b[0;34m\u001b[0m\u001b[0m\n\u001b[0;32m--> 287\u001b[0;31m                         \u001b[0;32mif\u001b[0m \u001b[0msum\u001b[0m\u001b[0;34m(\u001b[0m\u001b[0mdecconsts\u001b[0m\u001b[0;34m)\u001b[0m\u001b[0;34m!=\u001b[0m\u001b[0;36m0\u001b[0m\u001b[0;34m:\u001b[0m\u001b[0;34m\u001b[0m\u001b[0m\n\u001b[0m\u001b[1;32m    288\u001b[0m                                 \u001b[0;31m#t as it should be:\u001b[0m\u001b[0;34m\u001b[0m\u001b[0;34m\u001b[0m\u001b[0m\n\u001b[1;32m    289\u001b[0m                                 \u001b[0mtfloat\u001b[0m \u001b[0;34m=\u001b[0m \u001b[0mrnd\u001b[0m\u001b[0;34m.\u001b[0m\u001b[0mexponential\u001b[0m\u001b[0;34m(\u001b[0m\u001b[0;36m1\u001b[0m\u001b[0;34m/\u001b[0m\u001b[0msum\u001b[0m\u001b[0;34m(\u001b[0m\u001b[0mdecconsts\u001b[0m\u001b[0;34m)\u001b[0m\u001b[0;34m)\u001b[0m\u001b[0;34m\u001b[0m\u001b[0m\n",
      "\u001b[0;31mTypeError\u001b[0m: unsupported operand type(s) for +: 'int' and 'tuple'"
     ]
    }
   ],
   "source": [
    "imp.reload(aw)\n",
    "testlat = aw.Lattice(beta=0.5,s1=2,s2=2, ics=[\"u\",\"u\"])\n",
    "wrm=aw.Worm(testlat)\n",
    "print(wrm.decayrules[(wrm.direction, 0)]['eq'])\n",
    "print(wrm.direction)\n",
    "wrm.step()"
   ]
  },
  {
   "cell_type": "code",
   "execution_count": 268,
   "metadata": {},
   "outputs": [
    {
     "data": {
      "text/plain": [
       "10000000000000000000000"
      ]
     },
     "execution_count": 268,
     "metadata": {},
     "output_type": "execute_result"
    }
   ],
   "source": [
    "for coord,site in testlat.sites.items():\n",
    "    print(coord)\n",
    "    for ev in site.eventlist:\n",
    "        print(ev)\n",
    "    print(\"@@@@@@@@@@@\")\n"
   ]
  },
  {
   "cell_type": "code",
   "execution_count": 212,
   "metadata": {
    "scrolled": true
   },
   "outputs": [
    {
     "ename": "AttributeError",
     "evalue": "'numpy.ndarray' object has no attribute 'spins'",
     "output_type": "error",
     "traceback": [
      "\u001b[0;31m---------------------------------------------------------------------------\u001b[0m",
      "\u001b[0;31mAttributeError\u001b[0m                            Traceback (most recent call last)",
      "\u001b[0;32m<ipython-input-212-6bfa53d4d093>\u001b[0m in \u001b[0;36m<module>\u001b[0;34m()\u001b[0m\n\u001b[1;32m      1\u001b[0m \u001b[0mimp\u001b[0m\u001b[0;34m.\u001b[0m\u001b[0mreload\u001b[0m\u001b[0;34m(\u001b[0m\u001b[0maw\u001b[0m\u001b[0;34m)\u001b[0m\u001b[0;34m\u001b[0m\u001b[0m\n\u001b[1;32m      2\u001b[0m \u001b[0mtestlat\u001b[0m \u001b[0;34m=\u001b[0m \u001b[0maw\u001b[0m\u001b[0;34m.\u001b[0m\u001b[0mLattice\u001b[0m\u001b[0;34m(\u001b[0m\u001b[0mbeta\u001b[0m\u001b[0;34m=\u001b[0m\u001b[0;36m1\u001b[0m\u001b[0;34m,\u001b[0m\u001b[0ms1\u001b[0m\u001b[0;34m=\u001b[0m\u001b[0;36m2\u001b[0m\u001b[0;34m,\u001b[0m\u001b[0ms2\u001b[0m\u001b[0;34m=\u001b[0m\u001b[0;36m2\u001b[0m\u001b[0;34m,\u001b[0m \u001b[0mics\u001b[0m\u001b[0;34m=\u001b[0m\u001b[0;34m[\u001b[0m\u001b[0;34m\"u\"\u001b[0m\u001b[0;34m,\u001b[0m\u001b[0;34m\"u\"\u001b[0m\u001b[0;34m]\u001b[0m\u001b[0;34m)\u001b[0m\u001b[0;34m\u001b[0m\u001b[0m\n\u001b[0;32m----> 3\u001b[0;31m \u001b[0mtestlat\u001b[0m\u001b[0;34m.\u001b[0m\u001b[0mcheck_consistency\u001b[0m\u001b[0;34m(\u001b[0m\u001b[0;34m)\u001b[0m\u001b[0;34m\u001b[0m\u001b[0m\n\u001b[0m\u001b[1;32m      4\u001b[0m \u001b[0;32mfor\u001b[0m \u001b[0mi\u001b[0m \u001b[0;32min\u001b[0m \u001b[0mrange\u001b[0m\u001b[0;34m(\u001b[0m\u001b[0;36m1000\u001b[0m\u001b[0;34m)\u001b[0m\u001b[0;34m:\u001b[0m\u001b[0;34m\u001b[0m\u001b[0m\n\u001b[1;32m      5\u001b[0m     \u001b[0mtw\u001b[0m \u001b[0;34m=\u001b[0m \u001b[0maw\u001b[0m\u001b[0;34m.\u001b[0m\u001b[0mWorm\u001b[0m\u001b[0;34m(\u001b[0m\u001b[0mtestlat\u001b[0m\u001b[0;34m)\u001b[0m\u001b[0;34m\u001b[0m\u001b[0m\n",
      "\u001b[0;32m~/projects/pyworm/arrayworm.py\u001b[0m in \u001b[0;36mcheck_consistency\u001b[0;34m(self)\u001b[0m\n\u001b[1;32m    124\u001b[0m                         \u001b[0;32mfor\u001b[0m \u001b[0msite\u001b[0m \u001b[0;32min\u001b[0m \u001b[0mself\u001b[0m\u001b[0;34m.\u001b[0m\u001b[0msites\u001b[0m\u001b[0;34m.\u001b[0m\u001b[0mvalues\u001b[0m\u001b[0;34m(\u001b[0m\u001b[0;34m)\u001b[0m\u001b[0;34m:\u001b[0m\u001b[0;34m\u001b[0m\u001b[0m\n\u001b[1;32m    125\u001b[0m                                         \u001b[0;32mfor\u001b[0m \u001b[0mi\u001b[0m \u001b[0;32min\u001b[0m \u001b[0mrange\u001b[0m\u001b[0;34m(\u001b[0m\u001b[0mlen\u001b[0m\u001b[0;34m(\u001b[0m\u001b[0msite\u001b[0m\u001b[0;34m.\u001b[0m\u001b[0meventlist\u001b[0m\u001b[0;34m)\u001b[0m\u001b[0;34m)\u001b[0m\u001b[0;34m:\u001b[0m\u001b[0;34m\u001b[0m\u001b[0m\n\u001b[0;32m--> 126\u001b[0;31m                                                         \u001b[0mprint\u001b[0m\u001b[0;34m(\u001b[0m\u001b[0msite\u001b[0m\u001b[0;34m.\u001b[0m\u001b[0meventlist\u001b[0m\u001b[0;34m[\u001b[0m\u001b[0mi\u001b[0m\u001b[0;34m]\u001b[0m\u001b[0;34m.\u001b[0m\u001b[0mspins\u001b[0m\u001b[0;34m[\u001b[0m\u001b[0;34m\"BWD\"\u001b[0m\u001b[0;34m]\u001b[0m\u001b[0;34m,\u001b[0m\u001b[0;34m\"--\"\u001b[0m\u001b[0;34m,\u001b[0m\u001b[0msite\u001b[0m\u001b[0;34m.\u001b[0m\u001b[0meventlist\u001b[0m\u001b[0;34m[\u001b[0m\u001b[0mi\u001b[0m\u001b[0;34m]\u001b[0m\u001b[0;34m.\u001b[0m\u001b[0mspins\u001b[0m\u001b[0;34m[\u001b[0m\u001b[0;34m\"FWD\"\u001b[0m\u001b[0;34m]\u001b[0m\u001b[0;34m)\u001b[0m\u001b[0;34m\u001b[0m\u001b[0m\n\u001b[0m\u001b[1;32m    127\u001b[0m                                         \u001b[0mprint\u001b[0m\u001b[0;34m(\u001b[0m\u001b[0;34m\"@@@@@@@@@@@@@22\"\u001b[0m\u001b[0;34m)\u001b[0m\u001b[0;34m\u001b[0m\u001b[0m\n\u001b[1;32m    128\u001b[0m \u001b[0;34m\u001b[0m\u001b[0m\n",
      "\u001b[0;31mAttributeError\u001b[0m: 'numpy.ndarray' object has no attribute 'spins'"
     ]
    }
   ],
   "source": [
    "imp.reload(aw)\n",
    "testlat = aw.Lattice(beta=1,s1=2,s2=2, ics=[\"u\",\"u\"])\n",
    "testlat.check_consistency()\n",
    "for i in range(1000):\n",
    "    tw = aw.Worm(testlat)\n",
    "    tw.run()\n",
    "    "
   ]
  },
  {
   "cell_type": "code",
   "execution_count": 90,
   "metadata": {},
   "outputs": [
    {
     "data": {
      "text/plain": [
       "[[Event(time=0, spins={'FWD': 's', 'BWD': 's'}, transitionto=None, kind='boundary'),\n",
       "  Event(time=10000000000, spins={'FWD': 's', 'BWD': 's'}, transitionto=None, kind='boundary')],\n",
       " [Event(time=0, spins={'FWD': 's', 'BWD': 's'}, transitionto=None, kind='boundary'),\n",
       "  Event(time=10000000000, spins={'FWD': 's', 'BWD': 's'}, transitionto=None, kind='boundary')],\n",
       " [Event(time=0, spins={'FWD': 'd', 'BWD': 'd'}, transitionto=None, kind='boundary'),\n",
       "  Event(time=10000000000, spins={'FWD': 'd', 'BWD': 'd'}, transitionto=None, kind='boundary')],\n",
       " [Event(time=0, spins={'FWD': 'u', 'BWD': 'u'}, transitionto=None, kind='boundary'),\n",
       "  Event(time=10000000000, spins={'FWD': 'u', 'BWD': 'u'}, transitionto=None, kind='boundary')]]"
      ]
     },
     "execution_count": 90,
     "metadata": {},
     "output_type": "execute_result"
    }
   ],
   "source": [
    "[site.eventlist for site in testlat.sites.values()]"
   ]
  },
  {
   "cell_type": "code",
   "execution_count": 653,
   "metadata": {},
   "outputs": [
    {
     "name": "stdout",
     "output_type": "stream",
     "text": [
      "[0.30000000000000004, 0.8, 1.3, 1.8]\n"
     ]
    }
   ],
   "source": [
    "betas = [b*0.1 for b in range(3,20,5)]\n",
    "print(betas)"
   ]
  },
  {
   "cell_type": "code",
   "execution_count": 167,
   "metadata": {},
   "outputs": [
    {
     "name": "stdout",
     "output_type": "stream",
     "text": [
      "30.017858972772956\n"
     ]
    }
   ],
   "source": [
    "imp.reload(aw)\n",
    "from joblib import Parallel, delayed\n",
    "import multiprocessing\n",
    "num_cores = multiprocessing.cpu_count()\n",
    "betas = [b*0.1 for b in range(1,20)]\n",
    "from timeit import default_timer as timer\n",
    "\n",
    "start = timer()\n",
    "t3sqs = Parallel(n_jobs=num_cores)(delayed(aw.launch_simulation)(\n",
    "                        beta=beta,mu3=0,termsteps=1000, wormruns=10000, ics =[\"u\",\"d\"]) for beta in betas)\n",
    "stop = timer()\n",
    "\n",
    "print(stop-start)\n"
   ]
  },
  {
   "cell_type": "code",
   "execution_count": 165,
   "metadata": {},
   "outputs": [],
   "source": [
    "betams = [0.05, 0.1, 0.15, 0.2, 0.25, 0.3, 0.35, 0.4, 0.45, 0.5, 0.55, 0.6, \\\n",
    "0.65, 0.7, 0.75, 0.8, 0.85, 0.9, 0.95, 1., 1.05, 1.1, 1.15, 1.2, \\\n",
    "1.25, 1.3, 1.35, 1.4, 1.45, 1.5, 1.55, 1.6, 1.65, 1.7, 1.75, 1.8, \\\n",
    "1.85, 1.9, 1.95, 2.]\n",
    "t3sqms =[0.950042, 0.900332, 0.851115, 0.802625, 0.755081, 0.708687, 0.663624, \\\n",
    "0.620051, 0.578101, 0.537883, 0.49948, 0.46295, 0.42833, 0.395632, \\\n",
    "0.364851, 0.335963, 0.308931, 0.283702, 0.260217, 0.238406, 0.218194, \\\n",
    "0.199501, 0.182246, 0.166345, 0.151716, 0.138277, 0.125947, 0.114648, \\\n",
    "0.104307, 0.0948517, 0.0862145, 0.0783314, 0.0711424, 0.0645909, \\\n",
    "0.0586245, 0.053194, 0.048254, 0.0437625, 0.0396806, 0.0359724]\n",
    "\n",
    "t3sqmsu3 =[0.643524, 0.618581, 0.591947, 0.563794, 0.534356, 0.50392, 0.47281, \\\n",
    "0.441372, 0.409952, 0.378878, 0.348447, 0.31892, 0.290513, 0.263404, \\\n",
    "0.237733, 0.213603, 0.191088, 0.17023, 0.151044, 0.133516, 0.117609, \\\n",
    "0.103264, 0.0904029, 0.078935, 0.0687604, 0.0597736, 0.0518677, \\\n",
    "0.0449372, 0.0388807, 0.0336021, 0.0290123, 0.0250292, 0.0215785, \\\n",
    "0.0185933, 0.0160139, 0.0137873, 0.0118669, 0.0102116, 0.00878569, \\\n",
    "0.00755789]"
   ]
  },
  {
   "cell_type": "code",
   "execution_count": 168,
   "metadata": {
    "scrolled": true
   },
   "outputs": [
    {
     "data": {
      "image/png": "[encoded data removed]",
      "text/plain": [
       "<matplotlib.figure.Figure at 0x7f1d96b56518>"
      ]
     },
     "metadata": {},
     "output_type": "display_data"
    },
    {
     "data": {
      "image/png": "[encoded data removed]",
      "text/plain": [
       "<matplotlib.figure.Figure at 0x7f1da5fde8d0>"
      ]
     },
     "metadata": {},
     "output_type": "display_data"
    },
    {
     "ename": "NameError",
     "evalue": "name 'betadt' is not defined",
     "output_type": "error",
     "traceback": [
      "\u001b[0;31m---------------------------------------------------------------------------\u001b[0m",
      "\u001b[0;31mNameError\u001b[0m                                 Traceback (most recent call last)",
      "\u001b[0;32m<ipython-input-168-d4a3647dc3f2>\u001b[0m in \u001b[0;36m<module>\u001b[0;34m()\u001b[0m\n\u001b[1;32m      8\u001b[0m \u001b[0mplt\u001b[0m\u001b[0;34m.\u001b[0m\u001b[0mplot\u001b[0m\u001b[0;34m(\u001b[0m\u001b[0mresidues\u001b[0m\u001b[0;34m)\u001b[0m\u001b[0;34m\u001b[0m\u001b[0m\n\u001b[1;32m      9\u001b[0m \u001b[0mplt\u001b[0m\u001b[0;34m.\u001b[0m\u001b[0mshow\u001b[0m\u001b[0;34m(\u001b[0m\u001b[0;34m)\u001b[0m\u001b[0;34m\u001b[0m\u001b[0m\n\u001b[0;32m---> 10\u001b[0;31m \u001b[0mplt\u001b[0m\u001b[0;34m.\u001b[0m\u001b[0mplot\u001b[0m\u001b[0;34m(\u001b[0m\u001b[0mbetadt\u001b[0m\u001b[0;34m,\u001b[0m\u001b[0mt3sqdt\u001b[0m\u001b[0;34m,\u001b[0m \u001b[0;34m'o'\u001b[0m\u001b[0;34m)\u001b[0m\u001b[0;34m\u001b[0m\u001b[0m\n\u001b[0m\u001b[1;32m     11\u001b[0m \u001b[0mplt\u001b[0m\u001b[0;34m.\u001b[0m\u001b[0mplot\u001b[0m\u001b[0;34m(\u001b[0m\u001b[0mbetams\u001b[0m\u001b[0;34m,\u001b[0m\u001b[0mt3sqms\u001b[0m\u001b[0;34m)\u001b[0m\u001b[0;34m\u001b[0m\u001b[0m\n",
      "\u001b[0;31mNameError\u001b[0m: name 'betadt' is not defined"
     ]
    }
   ],
   "source": [
    "import matplotlib.pyplot as plt\n",
    "plt.plot(betas,t3sqs, '.')\n",
    "plt.plot(betams,t3sqmsu3)\n",
    "\n",
    "plt.plot(betacts,t3wqcts, '.')\n",
    "plt.show()\n",
    "residues =[x-y for x,y in zip(t3sqs,t3sqmsu3[1::2])]\n",
    "plt.plot(residues)\n",
    "plt.show()\n",
    "plt.plot(betadt,t3sqdt, 'o')\n",
    "plt.plot(betams,t3sqms)\n",
    "\n"
   ]
  },
  {
   "cell_type": "code",
   "execution_count": 117,
   "metadata": {},
   "outputs": [],
   "source": [
    "import csv\n",
    "def tsqfromfile(beta):\n",
    "    data =[]\n",
    "    with open('/scratch1/hornung/dtvspyworm/ct/su3/results/BETAS-{0:.2f}.dat'.format(beta)) as csvfile:\n",
    "        readCSV = csv.reader(csvfile, delimiter='\\t')\n",
    "        for row in readCSV:\n",
    "            data = row\n",
    "    \n",
    "    return float(data[4])\n",
    "\n",
    "\n",
    "betacts = [b*0.05 for b in range(1,41)]\n",
    "t3wqcts = [tsqfromfile(beta) for beta in betacts ]"
   ]
  },
  {
   "cell_type": "code",
   "execution_count": null,
   "metadata": {},
   "outputs": [],
   "source": [
    "imp.reload(aw)\n",
    "from numpy import linspace\n",
    "from joblib import Parallel, delayed\n",
    "import multiprocessing\n",
    "import exactdiag as ed\n",
    "imp.reload(ed)\n",
    "num_cores = multiprocessing.cpu_count()\n",
    "from timeit import default_timer as timer\n",
    "\n",
    "start = timer()\n",
    "\n",
    "mu3s = linspace(0.,8,21)\n",
    "beta = 7\n",
    "\n",
    "t3pyworm = Parallel(n_jobs=num_cores)(delayed(aw.launch_simulation)(\n",
    "                        beta=beta,mu3=mu3,termsteps=10000, wormruns=50000, ics =[\"d\",\"u\"]) for mu3 in mu3s)\n",
    "stop = timer()\n",
    "\n",
    "t3ed=[ed.t3_su3(mu3=mu3, beta=beta, J=1) for mu3 in mu3s]\n",
    "\n",
    "\n",
    "print(stop-start)\n"
   ]
  },
  {
   "cell_type": "code",
   "execution_count": 243,
   "metadata": {},
   "outputs": [],
   "source": []
  },
  {
   "cell_type": "code",
   "execution_count": 194,
   "metadata": {},
   "outputs": [],
   "source": [
    "def t3fromfile(mu3):\n",
    "    data=[]\n",
    "    with open('/scratch1/hornung/dtvspyworm/ct/mu3nonzero/results/MUS-{0:.1f}.dat'.format(mu3)) as csvfile:\n",
    "        readCSV = csv.reader(csvfile, delimiter='\\t')\n",
    "        for row in readCSV:\n",
    "            data = row\n",
    "    \n",
    "    return float(data[0])\n",
    "\n",
    "\n",
    "mu3cts = [b*0.4 for b in range(1,11)]\n",
    "t3cts = [t3fromfile(mu3) for mu3 in mu3cts ]"
   ]
  },
  {
   "cell_type": "code",
   "execution_count": 189,
   "metadata": {},
   "outputs": [
    {
     "data": {
      "text/plain": [
       "['/scratch1/hornung/dtvspyworm/ct/mu3nonzero/results/MUS-0.4.dat',\n",
       " '/scratch1/hornung/dtvspyworm/ct/mu3nonzero/results/MUS-0.8.dat',\n",
       " '/scratch1/hornung/dtvspyworm/ct/mu3nonzero/results/MUS-1.2.dat',\n",
       " '/scratch1/hornung/dtvspyworm/ct/mu3nonzero/results/MUS-1.6.dat',\n",
       " '/scratch1/hornung/dtvspyworm/ct/mu3nonzero/results/MUS-2.0.dat',\n",
       " '/scratch1/hornung/dtvspyworm/ct/mu3nonzero/results/MUS-2.4.dat',\n",
       " '/scratch1/hornung/dtvspyworm/ct/mu3nonzero/results/MUS-2.8.dat',\n",
       " '/scratch1/hornung/dtvspyworm/ct/mu3nonzero/results/MUS-3.2.dat',\n",
       " '/scratch1/hornung/dtvspyworm/ct/mu3nonzero/results/MUS-3.6.dat',\n",
       " '/scratch1/hornung/dtvspyworm/ct/mu3nonzero/results/MUS-4.0.dat']"
      ]
     },
     "execution_count": 189,
     "metadata": {},
     "output_type": "execute_result"
    }
   ],
   "source": [
    "['/scratch1/hornung/dtvspyworm/ct/mu3nonzero/results/MUS-{0:.1f}.dat'.format(mu3) for mu3 in mu3cts]"
   ]
  },
  {
   "cell_type": "code",
   "execution_count": 253,
   "metadata": {},
   "outputs": [
    {
     "data": {
      "image/png": "[encoded data removed]",
      "text/plain": [
       "<matplotlib.figure.Figure at 0x7f1d94a07f60>"
      ]
     },
     "metadata": {},
     "output_type": "display_data"
    }
   ],
   "source": [
    "plt.plot(mu3s,t3, '.')\n",
    "plt.plot(mu3s,t3ed)\n",
    "plt.show()"
   ]
  },
  {
   "cell_type": "code",
   "execution_count": null,
   "metadata": {},
   "outputs": [],
   "source": []
  }
 ],
 "metadata": {
  "kernelspec": {
   "display_name": "Python 3",
   "language": "python",
   "name": "python3"
  },
  "language_info": {
   "codemirror_mode": {
    "name": "ipython",
    "version": 3
   },
   "file_extension": ".py",
   "mimetype": "text/x-python",
   "name": "python",
   "nbconvert_exporter": "python",
   "pygments_lexer": "ipython3",
   "version": "3.5.3"
  }
 },
 "nbformat": 4,
 "nbformat_minor": 2
}
