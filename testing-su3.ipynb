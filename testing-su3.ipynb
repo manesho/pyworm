{
 "cells": [
  {
   "cell_type": "code",
   "execution_count": 4,
   "metadata": {
    "collapsed": true
   },
   "outputs": [
    {
     "data": {
      "text/plain": [
       "<module 'arrayworm' from '/home/hornung/projects/pyworm/arrayworm.py'>"
      ]
     },
     "execution_count": 4,
     "metadata": {},
     "output_type": "execute_result"
    }
   ],
   "source": [
    "import arrayworm as aw\n",
    "import importlib as imp\n",
    "imp.reload(aw)\n"
   ]
  },
  {
   "cell_type": "code",
   "execution_count": 8,
   "metadata": {},
   "outputs": [
    {
     "data": {
      "text/plain": [
       "[0.37887788278567885,\n",
       " 0.37894439827254706,\n",
       " 0.37914394778494914,\n",
       " 0.37947654047128554,\n",
       " 0.37994219155558295,\n",
       " 0.3805409223025352,\n",
       " 0.38127275996856863,\n",
       " 0.38213773773893245,\n",
       " 0.3831358946508294,\n",
       " 0.38426727550258993,\n",
       " 0.38553193074890224,\n",
       " 0.3869299163821175,\n",
       " 0.3884612937996369,\n",
       " 0.3901261296574076,\n",
       " 0.39192449570954263,\n",
       " 0.3938564686340887,\n",
       " 0.39592212984497044,\n",
       " 0.3981215652901375,\n",
       " 0.4004548652359485,\n",
       " 0.40292212403782846,\n",
       " 0.4055234398972355,\n",
       " 0.4082589146049868,\n",
       " 0.41112865327098497,\n",
       " 0.41413276404040456,\n",
       " 0.4172713577963888,\n",
       " 0.4205445478493268,\n",
       " 0.4239524496127755,\n",
       " 0.42749518026610034,\n",
       " 0.4311728584039214,\n",
       " 0.4349856036724445,\n",
       " 0.43893353639278,\n",
       " 0.4430167771713489,\n",
       " 0.4472354464974865,\n",
       " 0.4515896643283652,\n",
       " 0.4560795496613653,\n",
       " 0.4607052200940288,\n",
       " 0.46546679137175145,\n",
       " 0.47036437692336464,\n",
       " 0.4753980873847821,\n",
       " 0.48056803011089455,\n",
       " 0.48587430867590126,\n",
       " 0.4913170223622913,\n",
       " 0.4968962656386924,\n",
       " 0.5026121276268223,\n",
       " 0.5084646915577902,\n",
       " 0.5144540342180182,\n",
       " 0.5205802253850531,\n",
       " 0.5268433272535745,\n",
       " 0.5332433938519047,\n",
       " 0.5397804704493547,\n",
       " 0.5464545929547543,\n",
       " 0.5532657873065309,\n",
       " 0.5602140688547219,\n",
       " 0.5672994417353334,\n",
       " 0.5745218982374584,\n",
       " 0.5818814181636082,\n",
       " 0.5893779681837235,\n",
       " 0.5970115011833467,\n",
       " 0.6047819556064715,\n",
       " 0.612689254793596,\n",
       " 0.6207333063155345,\n",
       " 0.6289140013035665,\n",
       " 0.637231213776515,\n",
       " 0.6456847999653857,\n",
       " 0.6542745976361979,\n",
       " 0.663000425411691,\n",
       " 0.6718620820925835,\n",
       " 0.6808593459791042,\n",
       " 0.689991974193534,\n",
       " 0.6992597020045093,\n",
       " 0.708662242153883,\n",
       " 0.7181992841869258,\n",
       " 0.7278704937867125,\n",
       " 0.7376755121135277,\n",
       " 0.7476139551501585,\n",
       " 0.7576854130539665,\n",
       " 0.7678894495166343,\n",
       " 0.7782256011325163,\n",
       " 0.7886933767765322,\n",
       " 0.7992922569925589,\n",
       " 0.8100216933932898,\n",
       " 0.8208811080725489,\n",
       " 0.8318698930310559,\n",
       " 0.8429874096166435,\n",
       " 0.8542329879799572,\n",
       " 0.8656059265466455,\n",
       " 0.8771054915070794,\n",
       " 0.8887309163246392,\n",
       " 0.9004814012635941,\n",
       " 0.9123561129376173,\n",
       " 0.9243541838799704,\n",
       " 0.9364747121363863,\n",
       " 0.9487167608816723,\n",
       " 0.9610793580610524,\n",
       " 0.9735614960572475,\n",
       " 0.9861621313842857,\n",
       " 0.9988801844090184,\n",
       " 1.0117145391012905,\n",
       " 1.0246640428137102,\n",
       " 1.037727506091913]"
      ]
     },
     "execution_count": 8,
     "metadata": {},
     "output_type": "execute_result"
    }
   ],
   "source": [
    "from numpy import linspace\n",
    "import exactdiag as ed\n",
    "[ed.t3_su3_sq(mu3=mu3, beta=0.5, J=1) for mu3 in linspace(0,4,100)]"
   ]
  },
  {
   "cell_type": "code",
   "execution_count": 74,
   "metadata": {},
   "outputs": [
    {
     "name": "stdout",
     "output_type": "stream",
     "text": [
      "BWD\n"
     ]
    }
   ],
   "source": [
    "imp.reload(aw)\n",
    "testlat = aw.Lattice(beta=1,s1=2,s2=2, ics=[\"u\",\"u\"], mu3=1)\n",
    "tw = aw.Worm(testlat)\n",
    "print(tw.direction)\n",
    "tw.nextevcs\n",
    "tw.nextevnbs\n",
    "tw.step()"
   ]
  },
  {
   "cell_type": "code",
   "execution_count": 78,
   "metadata": {},
   "outputs": [
    {
     "name": "stdout",
     "output_type": "stream",
     "text": [
      "         4656428 function calls (4656421 primitive calls) in 6.112 seconds\n",
      "\n",
      "   Ordered by: internal time\n",
      "\n",
      "   ncalls  tottime  percall  cumtime  percall filename:lineno(function)\n",
      "   532395    0.597    0.000    0.597    0.000 arrayworm.py:99(find_event_in_dir)\n",
      "   321708    0.577    0.000    0.577    0.000 arrayworm.py:235(newspin)\n",
      "    83039    0.497    0.000    0.497    0.000 {method 'exponential' of 'mtrand.RandomState' objects}\n",
      "    96479    0.346    0.000    5.541    0.000 arrayworm.py:397(step)\n",
      "    96479    0.328    0.000    1.361    0.000 arrayworm.py:377(get_decay_constants)\n",
      "    96479    0.311    0.000    1.324    0.000 arrayworm.py:386(sample_decay_time)\n",
      "   106479    0.305    0.000    0.756    0.000 arrayworm.py:232(<listcomp>)\n",
      "   106479    0.275    0.000    1.177    0.000 arrayworm.py:229(find_next_events)\n",
      "   385916    0.239    0.000    0.617    0.000 arrayworm.py:362(get_state)\n",
      "   553755    0.225    0.000    0.225    0.000 {built-in method builtins.sum}\n",
      "    43635    0.216    0.000    0.457    0.000 arrayworm.py:299(process_event)\n",
      "    96479    0.211    0.000    0.411    0.000 arrayworm.py:387(<listcomp>)\n",
      "    96479    0.191    0.000    0.508    0.000 arrayworm.py:355(find_time_to_nextevents)\n",
      "    96479    0.185    0.000    0.225    0.000 arrayworm.py:356(<listcomp>)\n",
      "    96479    0.154    0.000    0.154    0.000 arrayworm.py:384(<listcomp>)\n",
      "    96479    0.152    0.000    0.769    0.000 arrayworm.py:383(<listcomp>)\n",
      "    76099    0.134    0.000    0.134    0.000 {method 'uniform' of 'mtrand.RandomState' objects}\n",
      "    10000    0.131    0.000    0.420    0.000 arrayworm.py:188(__init__)\n",
      "    33664    0.114    0.000    0.165    0.000 arrayworm.py:118(add_event_at)\n",
      "    96479    0.110    0.000    0.110    0.000 arrayworm.py:378(<listcomp>)\n",
      "    14272    0.097    0.000    0.443    0.000 arrayworm.py:270(jump)\n",
      "    10000    0.096    0.000    5.637    0.001 arrayworm.py:418(run)\n",
      "   192958    0.085    0.000    0.085    0.000 {built-in method builtins.min}\n",
      "    93039    0.078    0.000    0.078    0.000 {built-in method builtins.round}\n",
      "    14272    0.074    0.000    0.168    0.000 arrayworm.py:249(choose_decnb_and_channel)\n",
      "    33654    0.054    0.000    0.069    0.000 arrayworm.py:131(delete_event_at)\n",
      "   482395    0.047    0.000    0.047    0.000 {built-in method builtins.abs}\n",
      "   443004    0.041    0.000    0.041    0.000 {method 'values' of 'dict' objects}\n",
      "        1    0.041    0.041    6.112    6.112 <ipython-input-78-ac365738d5fa>:2(test_run)\n",
      "    14272    0.033    0.000    0.062    0.000 arrayworm.py:252(<listcomp>)\n",
      "    38572    0.033    0.000    0.033    0.000 arrayworm.py:245(move_head_t)\n",
      "    21808    0.021    0.000    0.021    0.000 arrayworm.py:81(find_event_at)\n",
      "    33672    0.020    0.000    0.038    0.000 <string>:12(__new__)\n",
      "    10000    0.018    0.000    0.018    0.000 arrayworm.py:89(find_spin_at)\n",
      "    33672    0.017    0.000    0.017    0.000 {built-in method __new__ of type object at 0x7f9c59cd3e80}\n",
      "    31607    0.016    0.000    0.016    0.000 arrayworm.py:260(flip_dir)\n",
      "    33654    0.015    0.000    0.015    0.000 {method 'pop' of 'list' objects}\n",
      "    33664    0.013    0.000    0.013    0.000 {method 'insert' of 'list' objects}\n",
      "        3    0.004    0.001    0.004    0.001 {built-in method builtins.compile}\n",
      "        1    0.002    0.002    0.002    0.002 {built-in method posix.open}\n",
      "        3    0.002    0.001    0.002    0.001 <frozen importlib._bootstrap_external>:824(get_data)\n",
      "        1    0.002    0.002    0.005    0.005 <frozen importlib._bootstrap_external>:106(_write_atomic)\n",
      "        1    0.001    0.001    0.001    0.001 {built-in method posix.replace}\n",
      "        8    0.001    0.000    0.001    0.000 {built-in method posix.stat}\n",
      "      5/2    0.000    0.000    6.112    3.056 {built-in method builtins.exec}\n",
      "        1    0.000    0.000    0.000    0.000 {built-in method posix.listdir}\n",
      "        5    0.000    0.000    0.000    0.000 {built-in method builtins.__build_class__}\n",
      "        1    0.000    0.000    0.000    0.000 {built-in method marshal.dumps}\n",
      "        2    0.000    0.000    0.002    0.001 <frozen importlib._bootstrap_external>:1223(find_spec)\n",
      "        1    0.000    0.000    0.000    0.000 arrayworm.py:141(Lattice)\n",
      "        1    0.000    0.000    0.001    0.001 __init__.py:359(namedtuple)\n",
      "        2    0.000    0.000    0.012    0.006 <frozen importlib._bootstrap_external>:737(get_code)\n",
      "        3    0.000    0.000    0.000    0.000 {method 'read' of '_io.FileIO' objects}\n",
      "      2/1    0.000    0.000    0.014    0.014 __init__.py:132(reload)\n",
      "        2    0.000    0.000    0.002    0.001 <frozen importlib._bootstrap>:879(_find_spec)\n",
      "      2/1    0.000    0.000    0.013    0.013 <frozen importlib._bootstrap>:605(_exec)\n",
      "        2    0.000    0.000    6.112    3.056 interactiveshell.py:2933(run_code)\n",
      "       19    0.000    0.000    0.000    0.000 {method 'format' of 'str' objects}\n",
      "        1    0.000    0.000    0.002    0.002 arrayworm.py:1(<module>)\n",
      "        2    0.000    0.000    0.000    0.000 <frozen importlib._bootstrap_external>:427(_validate_bytecode_header)\n",
      "        1    0.000    0.000    0.000    0.000 <frozen importlib._bootstrap_external>:1268(_fill_cache)\n",
      "        4    0.000    0.000    0.000    0.000 <frozen importlib._bootstrap_external>:254(cache_from_source)\n",
      "        1    0.000    0.000    0.000    0.000 {built-in method marshal.loads}\n",
      "       12    0.000    0.000    0.000    0.000 <frozen importlib._bootstrap_external>:59(<listcomp>)\n",
      "        2    0.000    0.000    0.000    0.000 {built-in method posix.getcwd}\n",
      "        2    0.000    0.000    0.000    0.000 codeop.py:132(__call__)\n",
      "       18    0.000    0.000    0.000    0.000 {method 'join' of 'str' objects}\n",
      "       12    0.000    0.000    0.000    0.000 <frozen importlib._bootstrap_external>:57(_path_join)\n",
      "        2    0.000    0.000    0.000    0.000 <frozen importlib._bootstrap>:510(_init_module_attrs)\n",
      "        1    0.000    0.000    0.000    0.000 <string>:1(<module>)\n",
      "        1    0.000    0.000    0.000    0.000 arrayworm.py:149(<dictcomp>)\n",
      "        2    0.000    0.000    0.000    0.000 <frozen importlib._bootstrap>:176(_get_module_lock)\n",
      "        8    0.000    0.000    0.001    0.000 <frozen importlib._bootstrap_external>:75(_path_stat)\n",
      "        2    0.000    0.000    0.002    0.001 <frozen importlib._bootstrap_external>:1109(_get_spec)\n",
      "        4    0.000    0.000    0.000    0.000 arrayworm.py:68(__init__)\n",
      "       14    0.000    0.000    0.000    0.000 <frozen importlib._bootstrap_external>:374(_verbose_message)\n",
      "        1    0.000    0.000    0.000    0.000 {method 'write' of '_io.FileIO' objects}\n",
      "        2    0.000    0.000    0.000    0.000 <frozen importlib._bootstrap>:94(acquire)\n",
      "        1    0.000    0.000    6.112    6.112 <ipython-input-78-ac365738d5fa>:12(<module>)\n",
      "       12    0.000    0.000    0.000    0.000 {built-in method builtins.hasattr}\n",
      "      2/1    0.000    0.000    0.013    0.013 <frozen importlib._bootstrap_external>:667(exec_module)\n",
      "        1    0.000    0.000    0.000    0.000 <frozen importlib._bootstrap_external>:494(_code_to_bytecode)\n",
      "        2    0.000    0.000    0.000    0.000 <frozen importlib._bootstrap_external>:350(_get_cached)\n",
      "        2    0.000    0.000    0.000    0.000 <frozen importlib._bootstrap_external>:521(spec_from_file_location)\n",
      "        1    0.000    0.000    0.000    0.000 <string>:5(Event)\n",
      "       28    0.000    0.000    0.000    0.000 {method 'rstrip' of 'str' objects}\n",
      "        2    0.000    0.000    0.000    0.000 <frozen importlib._bootstrap>:74(__init__)\n",
      "        2    0.000    0.000    0.000    0.000 <frozen importlib._bootstrap_external>:1072(_path_importer_cache)\n",
      "        2    0.000    0.000    0.000    0.000 <frozen importlib._bootstrap_external>:1218(_get_spec)\n",
      "        2    0.000    0.000    0.000    0.000 <frozen importlib._bootstrap>:163(__enter__)\n",
      "        1    0.000    0.000    0.000    0.000 rulegenerator.py:1(<module>)\n",
      "        6    0.000    0.000    0.000    0.000 <frozen importlib._bootstrap>:856(__exit__)\n",
      "        1    0.000    0.000    0.000    0.000 arrayworm.py:142(__init__)\n",
      "        1    0.000    0.000    0.005    0.005 <frozen importlib._bootstrap_external>:844(set_data)\n",
      "        5    0.000    0.000    0.000    0.000 <frozen importlib._bootstrap_external>:63(_path_split)\n",
      "        2    0.000    0.000    0.000    0.000 <frozen importlib._bootstrap_external>:47(_w_long)\n",
      "        1    0.000    0.000    0.000    0.000 rulegenerator.py:37(generate_decayrules_mu3lt4)\n",
      "        3    0.000    0.000    0.000    0.000 {method 'extend' of 'bytearray' objects}\n",
      "        1    0.000    0.000    0.000    0.000 <frozen importlib._bootstrap_external>:482(_compile_bytecode)\n",
      "        5    0.000    0.000    0.000    0.000 <frozen importlib._bootstrap>:996(_handle_fromlist)\n",
      "       15    0.000    0.000    0.000    0.000 {method 'rpartition' of 'str' objects}\n",
      "        2    0.000    0.000    0.000    0.000 hooks.py:142(__call__)\n",
      "        3    0.000    0.000    0.000    0.000 <frozen importlib._bootstrap_external>:85(_path_is_mode_type)\n",
      "        2    0.000    0.000    0.000    0.000 {built-in method _imp.is_builtin}\n",
      "        6    0.000    0.000    0.000    0.000 <frozen importlib._bootstrap>:852(__enter__)\n",
      "        3    0.000    0.000    0.000    0.000 <frozen importlib._bootstrap_external>:52(_r_long)\n",
      "        4    0.000    0.000    0.000    0.000 <frozen importlib._bootstrap>:406(cached)\n",
      "        8    0.000    0.000    0.000    0.000 arrayworm.py:161(isfund)\n",
      "        1    0.000    0.000    0.000    0.000 rulegenerator.py:96(generate_2f_transition_rules_mu3lt4)\n",
      "        1    0.000    0.000    0.004    0.004 <frozen importlib._bootstrap_external>:729(source_to_code)\n",
      "        2    0.000    0.000    0.000    0.000 <frozen importlib._bootstrap>:716(find_spec)\n",
      "        2    0.000    0.000    0.000    0.000 <frozen importlib._bootstrap>:170(__exit__)\n",
      "        2    0.000    0.000    0.000    0.000 <frozen importlib._bootstrap>:372(__init__)\n",
      "        5    0.000    0.000    0.000    0.000 __init__.py:424(<genexpr>)\n",
      "        2    0.000    0.000    0.000    0.000 <frozen importlib._bootstrap>:119(release)\n",
      "        1    0.000    0.000    0.000    0.000 <ipython-input-78-ac365738d5fa>:13(<module>)\n",
      "        2    0.000    0.000    0.000    0.000 <frozen importlib._bootstrap_external>:94(_path_isfile)\n",
      "        1    0.000    0.000    0.000    0.000 arrayworm.py:187(Worm)\n",
      "      3/2    0.000    0.000    0.005    0.003 <frozen importlib._bootstrap>:214(_call_with_frames_removed)\n",
      "        6    0.000    0.000    0.000    0.000 {method 'startswith' of 'str' objects}\n",
      "        1    0.000    0.000    0.005    0.005 <frozen importlib._bootstrap_external>:839(_cache_bytecode)\n",
      "        4    0.000    0.000    0.000    0.000 arrayworm.py:158(nblist)\n",
      "        2    0.000    0.000    0.000    0.000 <frozen importlib._bootstrap_external>:834(path_stats)\n",
      "        2    0.000    0.000    0.002    0.001 <frozen importlib._bootstrap_external>:1141(find_spec)\n",
      "        8    0.000    0.000    0.000    0.000 {built-in method _imp.acquire_lock}\n",
      "        2    0.000    0.000    0.000    0.000 {method 'replace' of 'str' objects}\n",
      "        2    0.000    0.000    0.000    0.000 ipstruct.py:125(__getattr__)\n",
      "        1    0.000    0.000    0.000    0.000 arrayworm.py:12(TestSite)\n",
      "        1    0.000    0.000    0.000    0.000 {built-in method builtins.repr}\n",
      "        2    0.000    0.000    0.000    0.000 <frozen importlib._bootstrap>:419(parent)\n",
      "        2    0.000    0.000    0.000    0.000 <frozen importlib._bootstrap_external>:794(__init__)\n",
      "        5    0.000    0.000    0.000    0.000 __init__.py:422(<genexpr>)\n",
      "       11    0.000    0.000    0.000    0.000 {built-in method builtins.len}\n",
      "        2    0.000    0.000    0.000    0.000 <frozen importlib._bootstrap_external>:390(_check_name_wrapper)\n",
      "        2    0.000    0.000    0.000    0.000 <frozen importlib._bootstrap>:159(__init__)\n",
      "        2    0.000    0.000    0.000    0.000 <frozen importlib._bootstrap>:789(find_spec)\n",
      "        3    0.000    0.000    0.000    0.000 {built-in method from_bytes}\n",
      "        5    0.000    0.000    0.000    0.000 {method 'get' of 'dict' objects}\n",
      "        2    0.000    0.000    0.000    0.000 {built-in method _imp.is_frozen}\n",
      "        8    0.000    0.000    0.000    0.000 {built-in method _imp.release_lock}\n",
      "        2    0.000    0.000    0.000    0.000 {method 'to_bytes' of 'int' objects}\n",
      "        2    0.000    0.000    0.000    0.000 interactiveshell.py:1104(user_global_ns)\n",
      "        4    0.000    0.000    0.000    0.000 {built-in method _thread.allocate_lock}\n",
      "        4    0.000    0.000    0.000    0.000 {built-in method _thread.get_ident}\n",
      "        1    0.000    0.000    0.000    0.000 <frozen importlib._bootstrap_external>:362(_calc_mode)\n",
      "        1    0.000    0.000    0.000    0.000 arrayworm.py:67(Site)\n",
      "        1    0.000    0.000    0.000    0.000 <frozen importlib._bootstrap_external>:99(_path_isdir)\n",
      "        2    0.000    0.000    0.000    0.000 <frozen importlib._bootstrap_external>:819(get_filename)\n",
      "        1    0.000    0.000    0.000    0.000 rulegenerator.py:1(generate_decayrules)\n",
      "        1    0.000    0.000    0.000    0.000 {method 'split' of 'str' objects}\n",
      "        6    0.000    0.000    0.000    0.000 {built-in method builtins.isinstance}\n",
      "        2    0.000    0.000    0.000    0.000 {method 'endswith' of 'str' objects}\n",
      "        1    0.000    0.000    0.000    0.000 {built-in method _imp._fix_co_filename}\n",
      "        5    0.000    0.000    0.000    0.000 {method 'isidentifier' of 'str' objects}\n",
      "        1    0.000    0.000    0.000    0.000 {built-in method sys._getframe}\n",
      "        1    0.000    0.000    0.000    0.000 {method 'disable' of '_lsprof.Profiler' objects}\n",
      "        2    0.000    0.000    0.000    0.000 <frozen importlib._bootstrap>:190(cb)\n",
      "        1    0.000    0.000    0.000    0.000 rulegenerator.py:22(generate_2f_transitio_nrules)\n",
      "        2    0.000    0.000    0.000    0.000 <frozen importlib._bootstrap>:427(has_location)\n",
      "        1    0.000    0.000    0.000    0.000 {built-in method builtins.id}\n",
      "        2    0.000    0.000    0.000    0.000 hooks.py:207(pre_run_code_hook)\n",
      "        2    0.000    0.000    0.000    0.000 <frozen importlib._bootstrap_external>:41(_relax_case)\n",
      "        4    0.000    0.000    0.000    0.000 {method 'add' of 'set' objects}\n",
      "        5    0.000    0.000    0.000    0.000 {method '__contains__' of 'frozenset' objects}\n",
      "\n",
      "\n"
     ]
    }
   ],
   "source": [
    "import cProfile\n",
    "def test_run():\n",
    "    imp.reload(aw)\n",
    "    testlat = aw.Lattice(beta=1,s1=2,s2=2, ics=[\"u\",\"u\"], mu3=1)\n",
    "\n",
    "    for i in range(10000):\n",
    "        tw = aw.Worm(testlat)\n",
    "        tw.run()\n",
    "        \n",
    "cpr = cProfile.Profile()    \n",
    "cpr.enable()\n",
    "test_run()\n",
    "cpr.disable()\n",
    "cpr.print_stats(sort='time')\n"
   ]
  },
  {
   "cell_type": "code",
   "execution_count": 86,
   "metadata": {},
   "outputs": [
    {
     "name": "stdout",
     "output_type": "stream",
     "text": [
      "4.651366721838713\n"
     ]
    }
   ],
   "source": [
    "imp.reload(aw)\n",
    "start = timer()\n",
    "\n",
    "testlat = aw.Lattice(beta=1,s1=2,s2=2, ics=[\"u\",\"u\"], mu3=1)\n",
    "for i in range(10000):\n",
    "        tw = aw.Worm(testlat)\n",
    "        tw.run()\n",
    "        \n",
    "stop = timer()\n",
    "print(stop-start)\n",
    "\n",
    "\n",
    "\n"
   ]
  },
  {
   "cell_type": "code",
   "execution_count": 117,
   "metadata": {
    "collapsed": true
   },
   "outputs": [],
   "source": [
    "import csv\n",
    "def tsqfromfile(beta):\n",
    "    data =[]\n",
    "    with open('/scratch1/hornung/dtvspyworm/ct/su3/results/BETAS-{0:.2f}.dat'.format(beta)) as csvfile:\n",
    "        readCSV = csv.reader(csvfile, delimiter='\\t')\n",
    "        for row in readCSV:\n",
    "            data = row\n",
    "    \n",
    "    return float(data[4])\n",
    "\n",
    "\n",
    "betacts = [b*0.05 for b in range(1,41)]\n",
    "t3wqcts = [tsqfromfile(beta) for beta in betacts ]"
   ]
  },
  {
   "cell_type": "code",
   "execution_count": 29,
   "metadata": {
    "collapsed": true
   },
   "outputs": [
    {
     "name": "stdout",
     "output_type": "stream",
     "text": [
      "56895.542214794084\n"
     ]
    }
   ],
   "source": [
    "imp.reload(aw)\n",
    "from numpy import linspace\n",
    "from joblib import Parallel, delayed\n",
    "import multiprocessing\n",
    "import exactdiag as ed\n",
    "imp.reload(ed)\n",
    "num_cores = multiprocessing.cpu_count()\n",
    "from timeit import default_timer as timer\n",
    "\n",
    "start = timer()\n",
    "\n",
    "mu3s = linspace(0.,8,21)\n",
    "betas = range(1,9)\n",
    "\n",
    "pywormresults = {}\n",
    "\n",
    "for beta in betas:\n",
    "    t3pyworm = Parallel(n_jobs=num_cores)(delayed(aw.launch_simulation)(\n",
    "                        beta=beta,mu3=mu3,termsteps=100000, wormruns=2000000, ics =[\"d\",\"u\"]) for mu3 in mu3s)\n",
    "    pywormresults.update({beta:t3pyworm})\n",
    "    \n",
    "stop = timer()\n",
    "\n",
    "\n",
    "print(stop-start)\n"
   ]
  },
  {
   "cell_type": "code",
   "execution_count": 114,
   "metadata": {},
   "outputs": [
    {
     "data": {
      "image/png": "[encoded data removed]",
      "text/plain": [
       "<matplotlib.figure.Figure at 0x7f9c1b1a67b8>"
      ]
     },
     "metadata": {},
     "output_type": "display_data"
    },
    {
     "data": {
      "image/png": "[encoded data removed]",
      "text/plain": [
       "<matplotlib.figure.Figure at 0x7f9c18e77d68>"
      ]
     },
     "metadata": {},
     "output_type": "display_data"
    }
   ],
   "source": [
    "from matplotlib import pyplot as plt\n",
    "ind = 2\n",
    "mu3ed = linspace(0,8,100)\n",
    "t3ed={beta:[ed.t3_su3(mu3=mu3, beta=beta, J=1) for mu3 in mu3ed] for beta in betas}\n",
    "plt.figure(figsize=[10,7])\n",
    "plt.grid(True)\n",
    "plt.plot(mu3s,pywormresults[ind], '.')\n",
    "plt.plot(mu3ed,t3ed[ind])\n",
    "#plt.plot(mu3cts,t3cts)\n",
    "plt.show()\n",
    "\n",
    "residues = [ x-y for x,y in zip(pywormresults[ind], [ed.t3_su3(mu3=mu3, beta=ind,J=1) for mu3 in mu3s])]\n",
    "plt.figure(figsize=[10,7])\n",
    "plt.plot(mu3s,residues,'o' )\n",
    "plt.ylim(-0.02,0.02)\n",
    "plt.grid(True)\n",
    "plt.show()"
   ]
  },
  {
   "cell_type": "code",
   "execution_count": 42,
   "metadata": {
    "collapsed": true
   },
   "outputs": [],
   "source": [
    "import csv\n",
    "data = [pywormresults[beta] for beta in range(1,9)]\n",
    "file = open('validation-values.dat', 'w')\n",
    "with file:\n",
    "    writer = csv.writer(file)\n",
    "    writer.writerows(data)\n",
    "     "
   ]
  },
  {
   "cell_type": "code",
   "execution_count": 108,
   "metadata": {
    "scrolled": true
   },
   "outputs": [],
   "source": [
    "import foo as f\n",
    "imp.reload(f)\n",
    "ts =f.Site()"
   ]
  },
  {
   "cell_type": "code",
   "execution_count": 109,
   "metadata": {},
   "outputs": [
    {
     "name": "stdout",
     "output_type": "stream",
     "text": [
      "0\n",
      "1\n"
     ]
    }
   ],
   "source": [
    "for event in ts.eventlist:\n",
    "    print(event[\"time\"])"
   ]
  },
  {
   "cell_type": "code",
   "execution_count": null,
   "metadata": {},
   "outputs": [],
   "source": []
  }
 ],
 "metadata": {
  "kernelspec": {
   "display_name": "Python 3",
   "language": "python",
   "name": "python3"
  },
  "language_info": {
   "codemirror_mode": {
    "name": "ipython",
    "version": 3
   },
   "file_extension": ".py",
   "mimetype": "text/x-python",
   "name": "python",
   "nbconvert_exporter": "python",
   "pygments_lexer": "ipython3",
   "version": "3.5.3"
  }
 },
 "nbformat": 4,
 "nbformat_minor": 2
}
