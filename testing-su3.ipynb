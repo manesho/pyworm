{
 "cells": [
  {
   "cell_type": "code",
   "execution_count": 4,
   "metadata": {
    "collapsed": true
   },
   "outputs": [
    {
     "data": {
      "text/plain": [
       "<module 'arrayworm' from '/home/hornung/projects/pyworm/arrayworm.py'>"
      ]
     },
     "execution_count": 4,
     "metadata": {},
     "output_type": "execute_result"
    }
   ],
   "source": [
    "import arrayworm as aw\n",
    "import importlib as imp\n",
    "imp.reload(aw)\n"
   ]
  },
  {
   "cell_type": "code",
   "execution_count": 8,
   "metadata": {
    "collapsed": true
   },
   "outputs": [
    {
     "name": "stdout",
     "output_type": "stream",
     "text": [
      "         6472261 function calls (6472254 primitive calls) in 7.036 seconds\n",
      "\n",
      "   Ordered by: cumulative time\n",
      "\n",
      "   ncalls  tottime  percall  cumtime  percall filename:lineno(function)\n",
      "        2    0.000    0.000    7.036    3.518 interactiveshell.py:2933(run_code)\n",
      "      5/2    0.000    0.000    7.036    3.518 {built-in method builtins.exec}\n",
      "        1    0.000    0.000    7.036    7.036 <ipython-input-8-31b963d9c702>:11(<module>)\n",
      "        1    0.037    0.037    7.036    7.036 <ipython-input-8-31b963d9c702>:2(test_run)\n",
      "    10000    0.104    0.000    6.682    0.001 arrayworm.py:415(run)\n",
      "    98095    0.462    0.000    6.577    0.000 arrayworm.py:393(step)\n",
      "    98095    0.443    0.000    2.196    0.000 arrayworm.py:371(get_decay_constants)\n",
      "    98095    0.364    0.000    1.477    0.000 arrayworm.py:343(find_time_to_nextevents)\n",
      "    98095    0.308    0.000    1.355    0.000 arrayworm.py:382(sample_decay_time)\n",
      "  1079045    0.841    0.000    1.139    0.000 arrayworm.py:40(find_event_in_dir)\n",
      "    98095    0.157    0.000    0.772    0.000 arrayworm.py:379(<listcomp>)\n",
      "    98095    0.286    0.000    0.702    0.000 arrayworm.py:346(<listcomp>)\n",
      "    98095    0.252    0.000    0.629    0.000 arrayworm.py:373(<listcomp>)\n",
      "   392380    0.237    0.000    0.615    0.000 arrayworm.py:356(get_state)\n",
      "   327393    0.578    0.000    0.578    0.000 arrayworm.py:227(newspin)\n",
      "    84596    0.507    0.000    0.507    0.000 {method 'exponential' of 'mtrand.RandomState' objects}\n",
      "    43625    0.217    0.000    0.470    0.000 arrayworm.py:288(process_event)\n",
      "    14076    0.086    0.000    0.433    0.000 arrayworm.py:262(jump)\n",
      "    98095    0.222    0.000    0.428    0.000 arrayworm.py:383(<listcomp>)\n",
      "    10000    0.124    0.000    0.313    0.000 arrayworm.py:188(__init__)\n",
      "  1089045    0.303    0.000    0.303    0.000 {built-in method _bisect.bisect}\n",
      "    98095    0.190    0.000    0.227    0.000 arrayworm.py:350(<listcomp>)\n",
      "   560855    0.226    0.000    0.226    0.000 {built-in method builtins.sum}\n",
      "    14076    0.074    0.000    0.169    0.000 arrayworm.py:241(choose_decnb_and_channel)\n",
      "    33340    0.101    0.000    0.167    0.000 arrayworm.py:56(add_event_at)\n",
      "    98095    0.147    0.000    0.147    0.000 arrayworm.py:380(<listcomp>)\n",
      "    75740    0.139    0.000    0.139    0.000 {method 'uniform' of 'mtrand.RandomState' objects}\n",
      "    98095    0.107    0.000    0.107    0.000 arrayworm.py:375(<listcomp>)\n",
      "    94596    0.087    0.000    0.087    0.000 {built-in method builtins.round}\n",
      "   196190    0.084    0.000    0.084    0.000 {built-in method builtins.min}\n",
      "    33328    0.045    0.000    0.082    0.000 arrayworm.py:61(delete_event_at)\n",
      "    14076    0.033    0.000    0.062    0.000 arrayworm.py:244(<listcomp>)\n",
      "   448684    0.045    0.000    0.045    0.000 {method 'values' of 'dict' objects}\n",
      "   490475    0.044    0.000    0.044    0.000 {built-in method builtins.abs}\n",
      "    33348    0.019    0.000    0.036    0.000 <string>:12(__new__)\n",
      "    40394    0.029    0.000    0.029    0.000 arrayworm.py:237(move_head_t)\n",
      "    10000    0.016    0.000    0.020    0.000 arrayworm.py:32(find_spin_at)\n",
      "    33348    0.017    0.000    0.017    0.000 {built-in method __new__ of type object at 0x7f9c59cd3e80}\n",
      "    65586    0.017    0.000    0.017    0.000 arrayworm.py:29(find_event_at)\n",
      "    33344    0.016    0.000    0.016    0.000 {built-in method _bisect.insort}\n",
      "    31949    0.016    0.000    0.016    0.000 arrayworm.py:252(flip_dir)\n",
      "    33328    0.015    0.000    0.015    0.000 {method 'pop' of 'list' objects}\n",
      "    33340    0.014    0.000    0.014    0.000 {method 'update' of 'dict' objects}\n",
      "    33328    0.014    0.000    0.014    0.000 {built-in method _bisect.bisect_left}\n",
      "    33328    0.008    0.000    0.008    0.000 {method 'pop' of 'dict' objects}\n",
      "      2/1    0.000    0.000    0.004    0.004 __init__.py:132(reload)\n",
      "      2/1    0.000    0.000    0.003    0.003 <frozen importlib._bootstrap>:605(_exec)\n",
      "      2/1    0.000    0.000    0.003    0.003 <frozen importlib._bootstrap_external>:667(exec_module)\n",
      "        2    0.000    0.000    0.002    0.001 <frozen importlib._bootstrap_external>:737(get_code)\n",
      "      2/1    0.000    0.000    0.002    0.002 <frozen importlib._bootstrap>:214(_call_with_frames_removed)\n",
      "        1    0.000    0.000    0.002    0.002 arrayworm.py:1(<module>)\n",
      "        2    0.002    0.001    0.002    0.001 <frozen importlib._bootstrap_external>:824(get_data)\n",
      "        2    0.000    0.000    0.001    0.001 <frozen importlib._bootstrap>:879(_find_spec)\n",
      "        2    0.000    0.000    0.001    0.001 <frozen importlib._bootstrap_external>:1141(find_spec)\n",
      "        2    0.000    0.000    0.001    0.001 <frozen importlib._bootstrap_external>:1109(_get_spec)\n",
      "        2    0.000    0.000    0.001    0.001 <frozen importlib._bootstrap_external>:1223(find_spec)\n",
      "        1    0.000    0.000    0.001    0.001 __init__.py:359(namedtuple)\n",
      "        1    0.000    0.000    0.001    0.001 <frozen importlib._bootstrap_external>:1268(_fill_cache)\n",
      "        1    0.001    0.001    0.001    0.001 {built-in method posix.listdir}\n",
      "        6    0.000    0.000    0.000    0.000 <frozen importlib._bootstrap_external>:75(_path_stat)\n",
      "        6    0.000    0.000    0.000    0.000 {built-in method posix.stat}\n",
      "        2    0.000    0.000    0.000    0.000 <frozen importlib._bootstrap_external>:482(_compile_bytecode)\n",
      "        2    0.000    0.000    0.000    0.000 {built-in method marshal.loads}\n",
      "        2    0.000    0.000    0.000    0.000 codeop.py:132(__call__)\n",
      "        2    0.000    0.000    0.000    0.000 {built-in method builtins.compile}\n",
      "        5    0.000    0.000    0.000    0.000 {built-in method builtins.__build_class__}\n",
      "       12    0.000    0.000    0.000    0.000 <frozen importlib._bootstrap_external>:57(_path_join)\n",
      "        1    0.000    0.000    0.000    0.000 arrayworm.py:142(__init__)\n",
      "        1    0.000    0.000    0.000    0.000 <string>:1(<module>)\n",
      "        1    0.000    0.000    0.000    0.000 arrayworm.py:149(<dictcomp>)\n",
      "        2    0.000    0.000    0.000    0.000 <frozen importlib._bootstrap>:510(_init_module_attrs)\n",
      "        4    0.000    0.000    0.000    0.000 <frozen importlib._bootstrap_external>:254(cache_from_source)\n",
      "        4    0.000    0.000    0.000    0.000 <frozen importlib._bootstrap>:406(cached)\n",
      "        4    0.000    0.000    0.000    0.000 arrayworm.py:13(__init__)\n",
      "        2    0.000    0.000    0.000    0.000 <frozen importlib._bootstrap_external>:350(_get_cached)\n",
      "        2    0.000    0.000    0.000    0.000 <frozen importlib._bootstrap>:163(__enter__)\n",
      "        2    0.000    0.000    0.000    0.000 <frozen importlib._bootstrap_external>:94(_path_isfile)\n",
      "        2    0.000    0.000    0.000    0.000 <frozen importlib._bootstrap_external>:427(_validate_bytecode_header)\n",
      "       18    0.000    0.000    0.000    0.000 {method 'join' of 'str' objects}\n",
      "        2    0.000    0.000    0.000    0.000 <frozen importlib._bootstrap_external>:85(_path_is_mode_type)\n",
      "       17    0.000    0.000    0.000    0.000 {method 'format' of 'str' objects}\n",
      "        2    0.000    0.000    0.000    0.000 <frozen importlib._bootstrap_external>:834(path_stats)\n",
      "        2    0.000    0.000    0.000    0.000 <frozen importlib._bootstrap_external>:1072(_path_importer_cache)\n",
      "       12    0.000    0.000    0.000    0.000 <frozen importlib._bootstrap_external>:59(<listcomp>)\n",
      "        2    0.000    0.000    0.000    0.000 <frozen importlib._bootstrap_external>:1218(_get_spec)\n",
      "        2    0.000    0.000    0.000    0.000 <frozen importlib._bootstrap>:176(_get_module_lock)\n",
      "        2    0.000    0.000    0.000    0.000 {built-in method posix.getcwd}\n",
      "        2    0.000    0.000    0.000    0.000 {method 'read' of '_io.FileIO' objects}\n",
      "        2    0.000    0.000    0.000    0.000 <frozen importlib._bootstrap>:170(__exit__)\n",
      "        1    0.000    0.000    0.000    0.000 <string>:5(Event)\n",
      "        2    0.000    0.000    0.000    0.000 <frozen importlib._bootstrap_external>:521(spec_from_file_location)\n",
      "        1    0.000    0.000    0.000    0.000 rulegenerator.py:1(generate_decayrules)\n",
      "        5    0.000    0.000    0.000    0.000 __init__.py:424(<genexpr>)\n",
      "        5    0.000    0.000    0.000    0.000 <frozen importlib._bootstrap>:996(_handle_fromlist)\n",
      "        1    0.000    0.000    0.000    0.000 rulegenerator.py:37(generate_decayrules_mu3lt4)\n",
      "       28    0.000    0.000    0.000    0.000 {method 'rstrip' of 'str' objects}\n",
      "        6    0.000    0.000    0.000    0.000 <frozen importlib._bootstrap>:852(__enter__)\n",
      "        2    0.000    0.000    0.000    0.000 <frozen importlib._bootstrap>:94(acquire)\n",
      "        2    0.000    0.000    0.000    0.000 <frozen importlib._bootstrap>:716(find_spec)\n",
      "        4    0.000    0.000    0.000    0.000 <frozen importlib._bootstrap_external>:63(_path_split)\n",
      "       12    0.000    0.000    0.000    0.000 {built-in method builtins.hasattr}\n",
      "        4    0.000    0.000    0.000    0.000 <frozen importlib._bootstrap_external>:52(_r_long)\n",
      "        2    0.000    0.000    0.000    0.000 <frozen importlib._bootstrap>:119(release)\n",
      "       12    0.000    0.000    0.000    0.000 <frozen importlib._bootstrap_external>:374(_verbose_message)\n",
      "        2    0.000    0.000    0.000    0.000 <frozen importlib._bootstrap>:74(__init__)\n",
      "        5    0.000    0.000    0.000    0.000 __init__.py:422(<genexpr>)\n",
      "        1    0.000    0.000    0.000    0.000 rulegenerator.py:22(generate_2f_transitio_nrules)\n",
      "        1    0.000    0.000    0.000    0.000 <ipython-input-8-31b963d9c702>:12(<module>)\n",
      "        2    0.000    0.000    0.000    0.000 hooks.py:142(__call__)\n",
      "        1    0.000    0.000    0.000    0.000 rulegenerator.py:96(generate_2f_transition_rules_mu3lt4)\n",
      "       14    0.000    0.000    0.000    0.000 {method 'rpartition' of 'str' objects}\n",
      "        6    0.000    0.000    0.000    0.000 <frozen importlib._bootstrap>:856(__exit__)\n",
      "        4    0.000    0.000    0.000    0.000 arrayworm.py:158(nblist)\n",
      "        8    0.000    0.000    0.000    0.000 {built-in method _imp.release_lock}\n",
      "        1    0.000    0.000    0.000    0.000 arrayworm.py:187(Worm)\n",
      "        2    0.000    0.000    0.000    0.000 {built-in method _imp.is_builtin}\n",
      "        2    0.000    0.000    0.000    0.000 {method 'replace' of 'str' objects}\n",
      "        1    0.000    0.000    0.000    0.000 arrayworm.py:12(TestSite)\n",
      "        2    0.000    0.000    0.000    0.000 <frozen importlib._bootstrap>:419(parent)\n",
      "        2    0.000    0.000    0.000    0.000 <frozen importlib._bootstrap_external>:794(__init__)\n",
      "        2    0.000    0.000    0.000    0.000 <frozen importlib._bootstrap>:372(__init__)\n",
      "        2    0.000    0.000    0.000    0.000 <frozen importlib._bootstrap>:789(find_spec)\n",
      "        8    0.000    0.000    0.000    0.000 arrayworm.py:161(isfund)\n",
      "        2    0.000    0.000    0.000    0.000 <frozen importlib._bootstrap_external>:390(_check_name_wrapper)\n",
      "        1    0.000    0.000    0.000    0.000 {method 'split' of 'str' objects}\n",
      "        2    0.000    0.000    0.000    0.000 ipstruct.py:125(__getattr__)\n",
      "        2    0.000    0.000    0.000    0.000 {method 'endswith' of 'str' objects}\n",
      "        6    0.000    0.000    0.000    0.000 {method 'startswith' of 'str' objects}\n",
      "        2    0.000    0.000    0.000    0.000 {built-in method _imp._fix_co_filename}\n",
      "        1    0.000    0.000    0.000    0.000 rulegenerator.py:1(<module>)\n",
      "        1    0.000    0.000    0.000    0.000 arrayworm.py:67(Site)\n",
      "        9    0.000    0.000    0.000    0.000 {built-in method builtins.len}\n",
      "        2    0.000    0.000    0.000    0.000 <frozen importlib._bootstrap>:427(has_location)\n",
      "        2    0.000    0.000    0.000    0.000 <frozen importlib._bootstrap>:159(__init__)\n",
      "        1    0.000    0.000    0.000    0.000 {built-in method builtins.repr}\n",
      "        4    0.000    0.000    0.000    0.000 {built-in method from_bytes}\n",
      "        5    0.000    0.000    0.000    0.000 {method 'get' of 'dict' objects}\n",
      "        7    0.000    0.000    0.000    0.000 {built-in method builtins.isinstance}\n",
      "        2    0.000    0.000    0.000    0.000 interactiveshell.py:1104(user_global_ns)\n",
      "        5    0.000    0.000    0.000    0.000 {method 'isidentifier' of 'str' objects}\n",
      "        4    0.000    0.000    0.000    0.000 {built-in method _thread.allocate_lock}\n",
      "        2    0.000    0.000    0.000    0.000 <frozen importlib._bootstrap>:190(cb)\n",
      "        1    0.000    0.000    0.000    0.000 {built-in method sys._getframe}\n",
      "        4    0.000    0.000    0.000    0.000 {built-in method _thread.get_ident}\n",
      "        2    0.000    0.000    0.000    0.000 hooks.py:207(pre_run_code_hook)\n",
      "        1    0.000    0.000    0.000    0.000 arrayworm.py:141(Lattice)\n",
      "        2    0.000    0.000    0.000    0.000 {built-in method _imp.is_frozen}\n",
      "        2    0.000    0.000    0.000    0.000 <frozen importlib._bootstrap_external>:819(get_filename)\n",
      "        4    0.000    0.000    0.000    0.000 {method 'add' of 'set' objects}\n",
      "        5    0.000    0.000    0.000    0.000 {method '__contains__' of 'frozenset' objects}\n",
      "        1    0.000    0.000    0.000    0.000 {method 'disable' of '_lsprof.Profiler' objects}\n",
      "        2    0.000    0.000    0.000    0.000 <frozen importlib._bootstrap_external>:41(_relax_case)\n",
      "        8    0.000    0.000    0.000    0.000 {built-in method _imp.acquire_lock}\n",
      "\n",
      "\n"
     ]
    },
    {
     "data": {
      "text/plain": [
       "<bound method Profile.print_stats of <cProfile.Profile object at 0x7f9c35103798>>"
      ]
     },
     "execution_count": 8,
     "metadata": {},
     "output_type": "execute_result"
    }
   ],
   "source": [
    "import cProfile\n",
    "def test_run():\n",
    "    imp.reload(aw)\n",
    "    testlat = aw.Lattice(beta=1,s1=2,s2=2, ics=[\"u\",\"u\"], mu3=1)\n",
    "\n",
    "    for i in range(10000):\n",
    "        tw = aw.Worm(testlat)\n",
    "        tw.run()\n",
    "cpr = cProfile.Profile()    \n",
    "cpr.enable()\n",
    "test_run()\n",
    "cpr.disable()\n",
    "cpr.print_stats(sort='cumtime')\n",
    "cpr.print_stats\n"
   ]
  },
  {
   "cell_type": "code",
   "execution_count": 117,
   "metadata": {
    "collapsed": true
   },
   "outputs": [],
   "source": [
    "import csv\n",
    "def tsqfromfile(beta):\n",
    "    data =[]\n",
    "    with open('/scratch1/hornung/dtvspyworm/ct/su3/results/BETAS-{0:.2f}.dat'.format(beta)) as csvfile:\n",
    "        readCSV = csv.reader(csvfile, delimiter='\\t')\n",
    "        for row in readCSV:\n",
    "            data = row\n",
    "    \n",
    "    return float(data[4])\n",
    "\n",
    "\n",
    "betacts = [b*0.05 for b in range(1,41)]\n",
    "t3wqcts = [tsqfromfile(beta) for beta in betacts ]"
   ]
  },
  {
   "cell_type": "code",
   "execution_count": 29,
   "metadata": {
    "collapsed": true
   },
   "outputs": [
    {
     "name": "stdout",
     "output_type": "stream",
     "text": [
      "56895.542214794084\n"
     ]
    }
   ],
   "source": [
    "imp.reload(aw)\n",
    "from numpy import linspace\n",
    "from joblib import Parallel, delayed\n",
    "import multiprocessing\n",
    "import exactdiag as ed\n",
    "imp.reload(ed)\n",
    "num_cores = multiprocessing.cpu_count()\n",
    "from timeit import default_timer as timer\n",
    "\n",
    "start = timer()\n",
    "\n",
    "mu3s = linspace(0.,8,21)\n",
    "betas = range(1,9)\n",
    "\n",
    "pywormresults = {}\n",
    "\n",
    "for beta in betas:\n",
    "    t3pyworm = Parallel(n_jobs=num_cores)(delayed(aw.launch_simulation)(\n",
    "                        beta=beta,mu3=mu3,termsteps=100000, wormruns=2000000, ics =[\"d\",\"u\"]) for mu3 in mu3s)\n",
    "    pywormresults.update({beta:t3pyworm})\n",
    "    \n",
    "stop = timer()\n",
    "\n",
    "\n",
    "print(stop-start)\n"
   ]
  },
  {
   "cell_type": "code",
   "execution_count": 46,
   "metadata": {},
   "outputs": [
    {
     "data": {
      "image/png": "[encoded data removed]",
      "text/plain": [
       "<matplotlib.figure.Figure at 0x7f9c1b0fc710>"
      ]
     },
     "metadata": {},
     "output_type": "display_data"
    },
    {
     "data": {
      "image/png": "[encoded data removed]",
      "text/plain": [
       "<matplotlib.figure.Figure at 0x7f9c1b105940>"
      ]
     },
     "metadata": {},
     "output_type": "display_data"
    }
   ],
   "source": [
    "from matplotlib import pyplot as plt\n",
    "ind = 4\n",
    "mu3ed = linspace(0,8,100)\n",
    "t3ed={beta:[ed.t3_su3(mu3=mu3, beta=beta, J=1) for mu3 in mu3ed] for beta in betas}\n",
    "plt.figure(figsize=[10,7])\n",
    "plt.grid(True)\n",
    "plt.plot(mu3s,pywormresults[ind], '.')\n",
    "plt.plot(mu3ed,t3ed[ind])\n",
    "#plt.plot(mu3cts,t3cts)\n",
    "plt.show()\n",
    "\n",
    "residues = [ x-y for x,y in zip(pywormresults[ind], [ed.t3_su3(mu3=mu3, beta=ind,J=1) for mu3 in mu3s])]\n",
    "plt.figure(figsize=[10,7])\n",
    "plt.plot(mu3s,residues,'o' )\n",
    "plt.ylim(-0.02,0.02)\n",
    "plt.grid(True)\n",
    "plt.show()"
   ]
  },
  {
   "cell_type": "code",
   "execution_count": 42,
   "metadata": {
    "collapsed": true
   },
   "outputs": [],
   "source": [
    "import csv\n",
    "data = [pywormresults[beta] for beta in range(1,9)]\n",
    "file = open('validation-values.dat', 'w')\n",
    "with file:\n",
    "    writer = csv.writer(file)\n",
    "    writer.writerows(data)\n",
    "     "
   ]
  },
  {
   "cell_type": "code",
   "execution_count": null,
   "metadata": {
    "collapsed": true
   },
   "outputs": [],
   "source": []
  }
 ],
 "metadata": {
  "kernelspec": {
   "display_name": "Python 3",
   "language": "python",
   "name": "python3"
  },
  "language_info": {
   "codemirror_mode": {
    "name": "ipython",
    "version": 3
   },
   "file_extension": ".py",
   "mimetype": "text/x-python",
   "name": "python",
   "nbconvert_exporter": "python",
   "pygments_lexer": "ipython3",
   "version": "3.5.3"
  }
 },
 "nbformat": 4,
 "nbformat_minor": 2
}
